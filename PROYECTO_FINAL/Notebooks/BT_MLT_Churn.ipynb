{
  "nbformat": 4,
  "nbformat_minor": 0,
  "metadata": {
    "kernelspec": {
      "display_name": "Python 3",
      "language": "python",
      "name": "python3"
    },
    "latex_envs": {
      "LaTeX_envs_menu_present": true,
      "autoclose": false,
      "autocomplete": true,
      "bibliofile": "biblio.bib",
      "cite_by": "apalike",
      "current_citInitial": 1,
      "eqLabelWithNumbers": true,
      "eqNumInitial": 1,
      "hotkeys": {
        "equation": "Ctrl-E",
        "itemize": "Ctrl-I"
      },
      "labels_anchors": false,
      "latex_user_defs": false,
      "report_style_numbering": false,
      "user_envs_cfg": false
    },
    "varInspector": {
      "cols": {
        "lenName": 16,
        "lenType": 16,
        "lenVar": 40
      },
      "kernels_config": {
        "python": {
          "delete_cmd_postfix": "",
          "delete_cmd_prefix": "del ",
          "library": "var_list.py",
          "varRefreshCmd": "print(var_dic_list())"
        },
        "r": {
          "delete_cmd_postfix": ") ",
          "delete_cmd_prefix": "rm(",
          "library": "var_list.r",
          "varRefreshCmd": "cat(var_dic_list()) "
        }
      },
      "types_to_exclude": [
        "module",
        "function",
        "builtin_function_or_method",
        "instance",
        "_Feature"
      ],
      "window_display": false
    },
    "colab": {
      "name": "BT_MLT_Churn.ipynb",
      "provenance": [],
      "collapsed_sections": [],
      "include_colab_link": true
    }
  },
  "cells": [
    {
      "cell_type": "markdown",
      "metadata": {
        "id": "view-in-github",
        "colab_type": "text"
      },
      "source": [
        "<a href=\"https://colab.research.google.com/github/marcbonastre/RepoTestGroup3/blob/master/PROYECTO_FINAL/Notebooks/BT_MLT_Churn.ipynb\" target=\"_parent\"><img src=\"https://colab.research.google.com/assets/colab-badge.svg\" alt=\"Open In Colab\"/></a>"
      ]
    },
    {
      "cell_type": "markdown",
      "metadata": {
        "id": "upwk3o8SJOXm",
        "colab_type": "text"
      },
      "source": [
        "# Reporte de MLT de Barcelona Telco"
      ]
    },
    {
      "cell_type": "markdown",
      "metadata": {
        "id": "sIvuHwWBJOXn",
        "colab_type": "text"
      },
      "source": [
        "## Problema ha solucionar\n"
      ]
    },
    {
      "cell_type": "markdown",
      "metadata": {
        "id": "Ulit_C3F9IiM",
        "colab_type": "text"
      },
      "source": [
        "Desde el departamento de ventas, uno de los directores bien conectado con el CMO, tiene una duda con un dataset interno. Este lo\n",
        "que contiene son 7043 clientes con 21 diferentes métricas que permite saber si se ha ido o no de la empresa en el último mes\n",
        "(gente que ha contactado con la empresa, o alguna promoción, o petición de baja). Están detectando que hay un ligero incremento\n",
        "de bajas de la compañía y al director le gustaría saber si podemos ayudar. La información que contiene es:\n",
        "• Clientes que se fueron en el último mes: Churn.\n",
        "• Servicios a los que se ha suscrito cada cliente: teléfono, líneas múltiples, Internet, seguridad en línea, respaldo en línea,\n",
        "protección del dispositivo, soporte técnico y transmisión de TV y películas\n",
        "• Información de la cuenta del cliente: cuánto tiempo han sido clientes, contrato, método de pago, facturación electrónica, cargos\n",
        "mensuales y cargos totales\n",
        "• Información demográfica sobre los clientes: género, rango de edad y si tienen socios y dependientes\n",
        "El CEO con el director de innovación han propuesto el siguiente challenge:\n",
        "\n",
        "• Con el dataset:\n",
        "1. Generar un modelo que sea capaz de predecir si un cliente dejará o no la compañía.\n",
        "2. Analizar los datos y generar visualizaciones para entender que métricas son las realmente importantes para crear un\n",
        "protocolo para el departamento de ventas.\n",
        "\n",
        "• Información relevante que le gustaría saber al CEO:\n",
        "• Dependiendo de los resultados preliminares, el CEO cree que podríamos crear una solución para que el equipo de\n",
        "ventas lo use en un piloto."
      ]
    },
    {
      "cell_type": "markdown",
      "metadata": {
        "id": "h4ByGDe2JOXo",
        "colab_type": "text"
      },
      "source": [
        "## Data"
      ]
    },
    {
      "cell_type": "code",
      "metadata": {
        "id": "HloGKByP-Ype",
        "colab_type": "code",
        "colab": {
          "base_uri": "https://localhost:8080/",
          "height": 88
        },
        "outputId": "0d2db0ad-467f-4971-bdc6-24a655e8f8d6"
      },
      "source": [
        "import time\n",
        "import matplotlib.pyplot as plt\n",
        "import seaborn as sns  \n",
        "import pandas as pd\n",
        "import numpy as np\n",
        "\n",
        "ch = pd.read_csv('https://raw.githubusercontent.com/marcbonastre/RepoTestGroup3/master/PROYECTO_FINAL/Datasets/Telco%20Custormer%20Churn/Telco-Customer-Churn.csv',header=0)\n",
        "print(ch.shape)"
      ],
      "execution_count": 1,
      "outputs": [
        {
          "output_type": "stream",
          "text": [
            "/usr/local/lib/python3.6/dist-packages/statsmodels/tools/_testing.py:19: FutureWarning: pandas.util.testing is deprecated. Use the functions in the public API at pandas.testing instead.\n",
            "  import pandas.util.testing as tm\n"
          ],
          "name": "stderr"
        },
        {
          "output_type": "stream",
          "text": [
            "(7043, 21)\n"
          ],
          "name": "stdout"
        }
      ]
    },
    {
      "cell_type": "markdown",
      "metadata": {
        "id": "2luqkIkIJOXo",
        "colab_type": "text"
      },
      "source": [
        "## Data Exploration"
      ]
    },
    {
      "cell_type": "code",
      "metadata": {
        "id": "Ox3hAgjX--oS",
        "colab_type": "code",
        "colab": {
          "base_uri": "https://localhost:8080/",
          "height": 309
        },
        "outputId": "7376591f-e5d7-42da-9ec6-fcb8b23c21cf"
      },
      "source": [
        "ch.head(5)"
      ],
      "execution_count": null,
      "outputs": [
        {
          "output_type": "execute_result",
          "data": {
            "text/html": [
              "<div>\n",
              "<style scoped>\n",
              "    .dataframe tbody tr th:only-of-type {\n",
              "        vertical-align: middle;\n",
              "    }\n",
              "\n",
              "    .dataframe tbody tr th {\n",
              "        vertical-align: top;\n",
              "    }\n",
              "\n",
              "    .dataframe thead th {\n",
              "        text-align: right;\n",
              "    }\n",
              "</style>\n",
              "<table border=\"1\" class=\"dataframe\">\n",
              "  <thead>\n",
              "    <tr style=\"text-align: right;\">\n",
              "      <th></th>\n",
              "      <th>customerID</th>\n",
              "      <th>gender</th>\n",
              "      <th>SeniorCitizen</th>\n",
              "      <th>Partner</th>\n",
              "      <th>Dependents</th>\n",
              "      <th>tenure</th>\n",
              "      <th>PhoneService</th>\n",
              "      <th>MultipleLines</th>\n",
              "      <th>InternetService</th>\n",
              "      <th>OnlineSecurity</th>\n",
              "      <th>OnlineBackup</th>\n",
              "      <th>DeviceProtection</th>\n",
              "      <th>TechSupport</th>\n",
              "      <th>StreamingTV</th>\n",
              "      <th>StreamingMovies</th>\n",
              "      <th>Contract</th>\n",
              "      <th>PaperlessBilling</th>\n",
              "      <th>PaymentMethod</th>\n",
              "      <th>MonthlyCharges</th>\n",
              "      <th>TotalCharges</th>\n",
              "      <th>Churn</th>\n",
              "    </tr>\n",
              "  </thead>\n",
              "  <tbody>\n",
              "    <tr>\n",
              "      <th>0</th>\n",
              "      <td>7590-VHVEG</td>\n",
              "      <td>Female</td>\n",
              "      <td>0</td>\n",
              "      <td>Yes</td>\n",
              "      <td>No</td>\n",
              "      <td>1</td>\n",
              "      <td>No</td>\n",
              "      <td>No phone service</td>\n",
              "      <td>DSL</td>\n",
              "      <td>No</td>\n",
              "      <td>Yes</td>\n",
              "      <td>No</td>\n",
              "      <td>No</td>\n",
              "      <td>No</td>\n",
              "      <td>No</td>\n",
              "      <td>Month-to-month</td>\n",
              "      <td>Yes</td>\n",
              "      <td>Electronic check</td>\n",
              "      <td>29.85</td>\n",
              "      <td>29.85</td>\n",
              "      <td>No</td>\n",
              "    </tr>\n",
              "    <tr>\n",
              "      <th>1</th>\n",
              "      <td>5575-GNVDE</td>\n",
              "      <td>Male</td>\n",
              "      <td>0</td>\n",
              "      <td>No</td>\n",
              "      <td>No</td>\n",
              "      <td>34</td>\n",
              "      <td>Yes</td>\n",
              "      <td>No</td>\n",
              "      <td>DSL</td>\n",
              "      <td>Yes</td>\n",
              "      <td>No</td>\n",
              "      <td>Yes</td>\n",
              "      <td>No</td>\n",
              "      <td>No</td>\n",
              "      <td>No</td>\n",
              "      <td>One year</td>\n",
              "      <td>No</td>\n",
              "      <td>Mailed check</td>\n",
              "      <td>56.95</td>\n",
              "      <td>1889.5</td>\n",
              "      <td>No</td>\n",
              "    </tr>\n",
              "    <tr>\n",
              "      <th>2</th>\n",
              "      <td>3668-QPYBK</td>\n",
              "      <td>Male</td>\n",
              "      <td>0</td>\n",
              "      <td>No</td>\n",
              "      <td>No</td>\n",
              "      <td>2</td>\n",
              "      <td>Yes</td>\n",
              "      <td>No</td>\n",
              "      <td>DSL</td>\n",
              "      <td>Yes</td>\n",
              "      <td>Yes</td>\n",
              "      <td>No</td>\n",
              "      <td>No</td>\n",
              "      <td>No</td>\n",
              "      <td>No</td>\n",
              "      <td>Month-to-month</td>\n",
              "      <td>Yes</td>\n",
              "      <td>Mailed check</td>\n",
              "      <td>53.85</td>\n",
              "      <td>108.15</td>\n",
              "      <td>Yes</td>\n",
              "    </tr>\n",
              "    <tr>\n",
              "      <th>3</th>\n",
              "      <td>7795-CFOCW</td>\n",
              "      <td>Male</td>\n",
              "      <td>0</td>\n",
              "      <td>No</td>\n",
              "      <td>No</td>\n",
              "      <td>45</td>\n",
              "      <td>No</td>\n",
              "      <td>No phone service</td>\n",
              "      <td>DSL</td>\n",
              "      <td>Yes</td>\n",
              "      <td>No</td>\n",
              "      <td>Yes</td>\n",
              "      <td>Yes</td>\n",
              "      <td>No</td>\n",
              "      <td>No</td>\n",
              "      <td>One year</td>\n",
              "      <td>No</td>\n",
              "      <td>Bank transfer (automatic)</td>\n",
              "      <td>42.30</td>\n",
              "      <td>1840.75</td>\n",
              "      <td>No</td>\n",
              "    </tr>\n",
              "    <tr>\n",
              "      <th>4</th>\n",
              "      <td>9237-HQITU</td>\n",
              "      <td>Female</td>\n",
              "      <td>0</td>\n",
              "      <td>No</td>\n",
              "      <td>No</td>\n",
              "      <td>2</td>\n",
              "      <td>Yes</td>\n",
              "      <td>No</td>\n",
              "      <td>Fiber optic</td>\n",
              "      <td>No</td>\n",
              "      <td>No</td>\n",
              "      <td>No</td>\n",
              "      <td>No</td>\n",
              "      <td>No</td>\n",
              "      <td>No</td>\n",
              "      <td>Month-to-month</td>\n",
              "      <td>Yes</td>\n",
              "      <td>Electronic check</td>\n",
              "      <td>70.70</td>\n",
              "      <td>151.65</td>\n",
              "      <td>Yes</td>\n",
              "    </tr>\n",
              "  </tbody>\n",
              "</table>\n",
              "</div>"
            ],
            "text/plain": [
              "   customerID  gender  SeniorCitizen  ... MonthlyCharges TotalCharges  Churn\n",
              "0  7590-VHVEG  Female              0  ...          29.85        29.85     No\n",
              "1  5575-GNVDE    Male              0  ...          56.95       1889.5     No\n",
              "2  3668-QPYBK    Male              0  ...          53.85       108.15    Yes\n",
              "3  7795-CFOCW    Male              0  ...          42.30      1840.75     No\n",
              "4  9237-HQITU  Female              0  ...          70.70       151.65    Yes\n",
              "\n",
              "[5 rows x 21 columns]"
            ]
          },
          "metadata": {
            "tags": []
          },
          "execution_count": 34
        }
      ]
    },
    {
      "cell_type": "markdown",
      "metadata": {
        "id": "GPAj_TSzWp7B",
        "colab_type": "text"
      },
      "source": [
        "Las columnas que contiene el dataset se definen en:\n",
        "\n",
        "* **customerID**\n",
        "* **gender**: Whether the customer is a male or a female\n",
        "* **SeniorCitizen**: Whether the customer is a senior citizen or not (1, 0)\n",
        "* **Partner**: Whether the customer has a partner or not (Yes, No)\n",
        "* **Dependents**: Whether the customer has dependents or not (Yes, No)\n",
        "* **tenure**: Number of months the customer has stayed with the company\n",
        "* **PhoneService**: Whether the customer has a phone service or not (Yes, No)\n",
        "* **MultipleLines**: Whether the customer has multiple lines or not (Yes, No, No phone service)\n",
        "* **InternetService**: Customer’s internet service provider (DSL, Fiber optic, No)\n",
        "* **OnlineSecurity**: Whether the customer has online security or not (Yes, No, No internet service)\n",
        "* **OnlineBackup**: Whether the customer has online backup or not (Yes, No, No internet service)\n",
        "* **DeviceProtection**: Whether the customer has device protection or not (Yes, No, No internet service)\n",
        "* **TechSupport**: Whether the customer has tech support or not (Yes, No, No internet service)\n",
        "* **StreamingTV**: Whether the customer has streaming TV or not (Yes, No, No internet service)\n",
        "* **StreamingMovies**: Whether the customer has streaming movies or not (Yes, No, No internet service)\n",
        "* **Contract**: The contract term of the customer (Month-to-month, One year, Two year)\n",
        "* **PaperlessBilling**: Whether the customer has paperless billing or not (Yes, No)\n",
        "* **PaymentMethod**: The customer’s payment method (Electronic check, Mailed check, Bank transfer (automatic), Credit card (automatic)) \n",
        "* **MonthlyCharges**: The amount charged to the customer monthly\n",
        "* **TotalCharges**: The total amount charged to the customer\n",
        "* **Churn**: Whether the customer churned or not (Yes or No)"
      ]
    },
    {
      "cell_type": "code",
      "metadata": {
        "id": "bZ9uW0Pm_Bqu",
        "colab_type": "code",
        "colab": {
          "base_uri": "https://localhost:8080/",
          "height": 136
        },
        "outputId": "c57baa0c-d1a6-457a-8029-3a60b948776e"
      },
      "source": [
        "print('El número de columnas y filas es de {}'.format(ch.shape))\n",
        "print('y sus encabezados son: {}'.format(ch.columns))"
      ],
      "execution_count": null,
      "outputs": [
        {
          "output_type": "stream",
          "text": [
            "El número de columnas y filas es de (7043, 21)\n",
            "y sus encabezados son: Index(['customerID', 'gender', 'SeniorCitizen', 'Partner', 'Dependents',\n",
            "       'tenure', 'PhoneService', 'MultipleLines', 'InternetService',\n",
            "       'OnlineSecurity', 'OnlineBackup', 'DeviceProtection', 'TechSupport',\n",
            "       'StreamingTV', 'StreamingMovies', 'Contract', 'PaperlessBilling',\n",
            "       'PaymentMethod', 'MonthlyCharges', 'TotalCharges', 'Churn'],\n",
            "      dtype='object')\n"
          ],
          "name": "stdout"
        }
      ]
    },
    {
      "cell_type": "markdown",
      "metadata": {
        "id": "myPMbqjY6XHK",
        "colab_type": "text"
      },
      "source": [
        "Ahora vamos a comprobar si hay nulos en el dataset"
      ]
    },
    {
      "cell_type": "code",
      "metadata": {
        "id": "-eOYE7BoxntC",
        "colab_type": "code",
        "colab": {
          "base_uri": "https://localhost:8080/",
          "height": 34
        },
        "outputId": "ae8e93b0-32f6-4576-ec27-02aae21cc9d3"
      },
      "source": [
        "ch.isnull().values.any()"
      ],
      "execution_count": null,
      "outputs": [
        {
          "output_type": "execute_result",
          "data": {
            "text/plain": [
              "False"
            ]
          },
          "metadata": {
            "tags": []
          },
          "execution_count": 36
        }
      ]
    },
    {
      "cell_type": "code",
      "metadata": {
        "id": "Jo6PHIxNMJ7v",
        "colab_type": "code",
        "colab": {
          "base_uri": "https://localhost:8080/",
          "height": 391
        },
        "outputId": "e2f43654-4aa9-41c6-8d6a-944cabb0feee"
      },
      "source": [
        "ch.isnull().sum()"
      ],
      "execution_count": null,
      "outputs": [
        {
          "output_type": "execute_result",
          "data": {
            "text/plain": [
              "customerID          0\n",
              "gender              0\n",
              "SeniorCitizen       0\n",
              "Partner             0\n",
              "Dependents          0\n",
              "tenure              0\n",
              "PhoneService        0\n",
              "MultipleLines       0\n",
              "InternetService     0\n",
              "OnlineSecurity      0\n",
              "OnlineBackup        0\n",
              "DeviceProtection    0\n",
              "TechSupport         0\n",
              "StreamingTV         0\n",
              "StreamingMovies     0\n",
              "Contract            0\n",
              "PaperlessBilling    0\n",
              "PaymentMethod       0\n",
              "MonthlyCharges      0\n",
              "TotalCharges        0\n",
              "Churn               0\n",
              "dtype: int64"
            ]
          },
          "metadata": {
            "tags": []
          },
          "execution_count": 37
        }
      ]
    },
    {
      "cell_type": "markdown",
      "metadata": {
        "id": "Cjw0amtPMukL",
        "colab_type": "text"
      },
      "source": [
        "El data set no cuenta con nulls. Ahora analizamos el tipo de dato que es cada columna"
      ]
    },
    {
      "cell_type": "code",
      "metadata": {
        "id": "a_pLi6oZIahA",
        "colab_type": "code",
        "colab": {
          "base_uri": "https://localhost:8080/",
          "height": 391
        },
        "outputId": "9ade0ece-fdbe-499e-fc59-e62a4a075412"
      },
      "source": [
        "ch.dtypes"
      ],
      "execution_count": null,
      "outputs": [
        {
          "output_type": "execute_result",
          "data": {
            "text/plain": [
              "customerID           object\n",
              "gender               object\n",
              "SeniorCitizen         int64\n",
              "Partner              object\n",
              "Dependents           object\n",
              "tenure                int64\n",
              "PhoneService         object\n",
              "MultipleLines        object\n",
              "InternetService      object\n",
              "OnlineSecurity       object\n",
              "OnlineBackup         object\n",
              "DeviceProtection     object\n",
              "TechSupport          object\n",
              "StreamingTV          object\n",
              "StreamingMovies      object\n",
              "Contract             object\n",
              "PaperlessBilling     object\n",
              "PaymentMethod        object\n",
              "MonthlyCharges      float64\n",
              "TotalCharges         object\n",
              "Churn                object\n",
              "dtype: object"
            ]
          },
          "metadata": {
            "tags": []
          },
          "execution_count": 38
        }
      ]
    },
    {
      "cell_type": "code",
      "metadata": {
        "id": "NAMGHJRAJmEw",
        "colab_type": "code",
        "colab": {}
      },
      "source": [
        "chh=ch.drop(['customerID','TotalCharges'], axis=1)"
      ],
      "execution_count": null,
      "outputs": []
    },
    {
      "cell_type": "code",
      "metadata": {
        "id": "nC-5tMQbLxbc",
        "colab_type": "code",
        "colab": {
          "base_uri": "https://localhost:8080/",
          "height": 301
        },
        "outputId": "e07c2732-f312-4810-bed4-7d36c62fad99"
      },
      "source": [
        "fig = plt.figure(figsize=(8,4))\n",
        "ax1 = sns.barplot(x=\"Churn\", y=\"tenure\",hue=\"gender\", data=chh)\n",
        "ax1.set_title('Media de churn por meses de contrato')\n",
        "plt.show()"
      ],
      "execution_count": null,
      "outputs": [
        {
          "output_type": "display_data",
          "data": {
            "image/png": "[encoded data removed]",
            "text/plain": [
              "<Figure size 576x288 with 1 Axes>"
            ]
          },
          "metadata": {
            "tags": []
          }
        }
      ]
    },
    {
      "cell_type": "code",
      "metadata": {
        "colab_type": "code",
        "id": "KOhm0Ve9_W1c",
        "colab": {}
      },
      "source": [
        "chh=ch.drop(['customerID','TotalCharges'], axis=1)"
      ],
      "execution_count": null,
      "outputs": []
    },
    {
      "cell_type": "code",
      "metadata": {
        "colab_type": "code",
        "id": "evfIT7Wb_W1l",
        "colab": {
          "base_uri": "https://localhost:8080/",
          "height": 301
        },
        "outputId": "18b16e61-256e-45b0-e04f-a46a2d68889a"
      },
      "source": [
        "fig = plt.figure(figsize=(8,4))\n",
        "ax1 = sns.barplot(x=\"Churn\", y=\"tenure\",hue=\"gender\", data=chh)\n",
        "ax1.set_title('Media de churn por meses de contrato')\n",
        "plt.show()"
      ],
      "execution_count": null,
      "outputs": [
        {
          "output_type": "display_data",
          "data": {
            "image/png": "[encoded data removed]",
            "text/plain": [
              "<Figure size 576x288 with 1 Axes>"
            ]
          },
          "metadata": {
            "tags": []
          }
        }
      ]
    },
    {
      "cell_type": "markdown",
      "metadata": {
        "id": "auPPQOofOB2f",
        "colab_type": "text"
      },
      "source": [
        "Vemos que el sexo de la persona no varia mucho en el churn, por tanto el imapocto es muy bajo"
      ]
    },
    {
      "cell_type": "markdown",
      "metadata": {
        "id": "qJ8pQW1cOLPR",
        "colab_type": "text"
      },
      "source": [
        "Ahora vamos a analizar los datos que contiene cada variable"
      ]
    },
    {
      "cell_type": "markdown",
      "metadata": {
        "id": "DWIbbLs4Men5",
        "colab_type": "text"
      },
      "source": [
        "Hay muchos resultados que son Yes/No y otra respuesta tipo, vamos a analizar cuales son estas respuestas. Lo ideal sería poder convertirlas a valores enteros de 0,1,2...\n",
        "\n"
      ]
    },
    {
      "cell_type": "code",
      "metadata": {
        "id": "M5m035wzxPUh",
        "colab_type": "code",
        "colab": {
          "base_uri": "https://localhost:8080/",
          "height": 408
        },
        "outputId": "53927aec-296f-4fad-b49a-611a779e0592"
      },
      "source": [
        "a=chh.gender.unique()\n",
        "b=chh.SeniorCitizen.unique()\n",
        "c=chh.Partner.unique()\n",
        "d=chh.Dependents.unique()\n",
        "e=chh.tenure.unique()\n",
        "f=chh.PhoneService.unique()\n",
        "g=chh.MultipleLines.unique()\n",
        "h=chh.InternetService.unique()\n",
        "i=chh.OnlineSecurity.unique()\n",
        "j=chh.OnlineBackup.unique()\n",
        "k=chh.DeviceProtection.unique()\n",
        "l=chh.TechSupport.unique()\n",
        "m=chh.StreamingTV.unique()\n",
        "n=chh.StreamingMovies.unique()\n",
        "o=chh.Contract.unique()\n",
        "p=chh.PaperlessBilling.unique()\n",
        "q=chh.PaymentMethod.unique()\n",
        "r=chh.MonthlyCharges.unique()\n",
        "s=chh.Churn.unique()\n",
        "\n",
        "print('los datos unicos de gender es de {}'.format(a))\n",
        "print('los datos unicos de SeniorCitizen es de {}'.format(b))\n",
        "print('los datos unicos de Partner es de {}'.format(c))\n",
        "print('los datos unicos de Dependents es de {}'.format(d))\n",
        "print('los datos unicos de tenure es de {}'.format(e))\n",
        "print('los datos unicos de PhoneService es de {}'.format(f))\n",
        "print('los datos unicos de MultipleLines es de {}'.format(g))\n",
        "print('los datos unicos de InternetService es de {}'.format(h))\n",
        "print('los datos unicos de OnlineSecurity es de {}'.format(i))\n",
        "print('los datos unicos de OnlineBackup es de {}'.format(j))\n",
        "print('los datos unicos de DeviceProtection es de {}'.format(k))\n",
        "print('los datos unicos de TechSupport es de {}'.format(l))\n",
        "print('los datos unicos de StreamingTV es de {}'.format(m))\n",
        "print('los datos unicos de StreamingMovies es de {}'.format(n))\n",
        "print('los datos unicos de Contract es de {}'.format(o))\n",
        "print('los datos unicos de PaperlessBilling es de {}'.format(p))\n",
        "print('los datos unicos de PaymentMethod es de {}'.format(q))\n",
        "print('los datos unicos de MonthlyCharges es de {}'.format(r))\n",
        "print('los datos unicos de Churn es de {}'.format(s))\n"
      ],
      "execution_count": null,
      "outputs": [
        {
          "output_type": "stream",
          "text": [
            "los datos unicos de gender es de ['Female' 'Male']\n",
            "los datos unicos de SeniorCitizen es de [0 1]\n",
            "los datos unicos de Partner es de ['Yes' 'No']\n",
            "los datos unicos de Dependents es de ['No' 'Yes']\n",
            "los datos unicos de tenure es de [ 1 34  2 45  8 22 10 28 62 13 16 58 49 25 69 52 71 21 12 30 47 72 17 27\n",
            "  5 46 11 70 63 43 15 60 18 66  9  3 31 50 64 56  7 42 35 48 29 65 38 68\n",
            " 32 55 37 36 41  6  4 33 67 23 57 61 14 20 53 40 59 24 44 19 54 51 26  0\n",
            " 39]\n",
            "los datos unicos de PhoneService es de ['No' 'Yes']\n",
            "los datos unicos de MultipleLines es de ['No phone service' 'No' 'Yes']\n",
            "los datos unicos de InternetService es de ['DSL' 'Fiber optic' 'No']\n",
            "los datos unicos de OnlineSecurity es de ['No' 'Yes' 'No internet service']\n",
            "los datos unicos de OnlineBackup es de ['Yes' 'No' 'No internet service']\n",
            "los datos unicos de DeviceProtection es de ['No' 'Yes' 'No internet service']\n",
            "los datos unicos de TechSupport es de ['No' 'Yes' 'No internet service']\n",
            "los datos unicos de StreamingTV es de ['No' 'Yes' 'No internet service']\n",
            "los datos unicos de StreamingMovies es de ['No' 'Yes' 'No internet service']\n",
            "los datos unicos de Contract es de ['Month-to-month' 'One year' 'Two year']\n",
            "los datos unicos de PaperlessBilling es de ['Yes' 'No']\n",
            "los datos unicos de PaymentMethod es de ['Electronic check' 'Mailed check' 'Bank transfer (automatic)'\n",
            " 'Credit card (automatic)']\n",
            "los datos unicos de MonthlyCharges es de [29.85 56.95 53.85 ... 63.1  44.2  78.7 ]\n",
            "los datos unicos de Churn es de ['No' 'Yes']\n"
          ],
          "name": "stdout"
        }
      ]
    },
    {
      "cell_type": "markdown",
      "metadata": {
        "id": "J2F2xEnIQuVA",
        "colab_type": "text"
      },
      "source": [
        "Vemos que hay mucho que son **No/Yes/No phone service/No internet service**, los \"No phone service/No internet service\" los vamos a convertir realmente todos a NO, ya que significan lo mismo"
      ]
    },
    {
      "cell_type": "code",
      "metadata": {
        "id": "nPv5pRZSRBo3",
        "colab_type": "code",
        "colab": {}
      },
      "source": [
        "chhh = chh.replace(to_replace = ['No phone service','No internet service'],value = 'No')"
      ],
      "execution_count": null,
      "outputs": []
    },
    {
      "cell_type": "code",
      "metadata": {
        "id": "yiIhKKjLRhPj",
        "colab_type": "code",
        "colab": {
          "base_uri": "https://localhost:8080/",
          "height": 136
        },
        "outputId": "79935291-eb73-489e-a5e4-afcff43ccef1"
      },
      "source": [
        "g=chhh.MultipleLines.unique()\n",
        "i=chhh.OnlineSecurity.unique()\n",
        "j=chhh.OnlineBackup.unique()\n",
        "k=chhh.DeviceProtection.unique()\n",
        "l=chhh.TechSupport.unique()\n",
        "m=chhh.StreamingTV.unique()\n",
        "n=chhh.StreamingMovies.unique()\n",
        "\n",
        "print('los datos unicos de MultipleLines es de {}'.format(g))\n",
        "print('los datos unicos de OnlineSecurity es de {}'.format(i))\n",
        "print('los datos unicos de OnlineBackup es de {}'.format(j))\n",
        "print('los datos unicos de DeviceProtection es de {}'.format(k))\n",
        "print('los datos unicos de TechSupport es de {}'.format(l))\n",
        "print('los datos unicos de StreamingTV es de {}'.format(m))\n",
        "print('los datos unicos de StreamingMovies es de {}'.format(n))\n"
      ],
      "execution_count": null,
      "outputs": [
        {
          "output_type": "stream",
          "text": [
            "los datos unicos de MultipleLines es de ['No' 'Yes']\n",
            "los datos unicos de OnlineSecurity es de ['No' 'Yes']\n",
            "los datos unicos de OnlineBackup es de ['Yes' 'No']\n",
            "los datos unicos de DeviceProtection es de ['No' 'Yes']\n",
            "los datos unicos de TechSupport es de ['No' 'Yes']\n",
            "los datos unicos de StreamingTV es de ['No' 'Yes']\n",
            "los datos unicos de StreamingMovies es de ['No' 'Yes']\n"
          ],
          "name": "stdout"
        }
      ]
    },
    {
      "cell_type": "markdown",
      "metadata": {
        "colab_type": "text",
        "id": "8HQGWCWL_d6d"
      },
      "source": [
        "Vemos que hay mucho que son **No/Yes/No phone service/No internet service**, los \"No phone service/No internet service\" los vamos a convertir realmente todos a NO, ya que significan lo mismo"
      ]
    },
    {
      "cell_type": "code",
      "metadata": {
        "colab_type": "code",
        "id": "dZl-gWKK_d6e",
        "colab": {}
      },
      "source": [
        "chhh = chh.replace(to_replace = ['No phone service','No internet service'],value = 'No')"
      ],
      "execution_count": null,
      "outputs": []
    },
    {
      "cell_type": "code",
      "metadata": {
        "colab_type": "code",
        "id": "iTzlZHYm_d6h",
        "colab": {
          "base_uri": "https://localhost:8080/",
          "height": 136
        },
        "outputId": "3c75bbb0-3d38-4e0d-a2de-51c868f80b91"
      },
      "source": [
        "g=chhh.MultipleLines.unique()\n",
        "i=chhh.OnlineSecurity.unique()\n",
        "j=chhh.OnlineBackup.unique()\n",
        "k=chhh.DeviceProtection.unique()\n",
        "l=chhh.TechSupport.unique()\n",
        "m=chhh.StreamingTV.unique()\n",
        "n=chhh.StreamingMovies.unique()\n",
        "\n",
        "print('los datos unicos de MultipleLines es de {}'.format(g))\n",
        "print('los datos unicos de OnlineSecurity es de {}'.format(i))\n",
        "print('los datos unicos de OnlineBackup es de {}'.format(j))\n",
        "print('los datos unicos de DeviceProtection es de {}'.format(k))\n",
        "print('los datos unicos de TechSupport es de {}'.format(l))\n",
        "print('los datos unicos de StreamingTV es de {}'.format(m))\n",
        "print('los datos unicos de StreamingMovies es de {}'.format(n))\n"
      ],
      "execution_count": null,
      "outputs": [
        {
          "output_type": "stream",
          "text": [
            "los datos unicos de MultipleLines es de ['No' 'Yes']\n",
            "los datos unicos de OnlineSecurity es de ['No' 'Yes']\n",
            "los datos unicos de OnlineBackup es de ['Yes' 'No']\n",
            "los datos unicos de DeviceProtection es de ['No' 'Yes']\n",
            "los datos unicos de TechSupport es de ['No' 'Yes']\n",
            "los datos unicos de StreamingTV es de ['No' 'Yes']\n",
            "los datos unicos de StreamingMovies es de ['No' 'Yes']\n"
          ],
          "name": "stdout"
        }
      ]
    },
    {
      "cell_type": "markdown",
      "metadata": {
        "id": "t6K0BCc0VA9w",
        "colab_type": "text"
      },
      "source": [
        "Vamos a realizar un categorical variables encoding. Las variables que tengan 2 clases, vamos a usar Label Encoder"
      ]
    },
    {
      "cell_type": "code",
      "metadata": {
        "id": "6gDp40tMVN18",
        "colab_type": "code",
        "colab": {
          "base_uri": "https://localhost:8080/",
          "height": 255
        },
        "outputId": "d3de0906-f0be-4995-dc51-8f6a63ddff40"
      },
      "source": [
        "from sklearn.preprocessing import LabelEncoder\n",
        "label_encoder=LabelEncoder()\n",
        "for x in [i for i in chhh.columns if len(chhh[i].unique())==2]:\n",
        "    print(x, chhh[x].unique())\n",
        "    chhh[x]= label_encoder.fit_transform(chhh[x])"
      ],
      "execution_count": null,
      "outputs": [
        {
          "output_type": "stream",
          "text": [
            "gender ['Female' 'Male']\n",
            "SeniorCitizen [0 1]\n",
            "Partner ['Yes' 'No']\n",
            "Dependents ['No' 'Yes']\n",
            "PhoneService ['No' 'Yes']\n",
            "MultipleLines ['No' 'Yes']\n",
            "OnlineSecurity ['No' 'Yes']\n",
            "OnlineBackup ['Yes' 'No']\n",
            "DeviceProtection ['No' 'Yes']\n",
            "TechSupport ['No' 'Yes']\n",
            "StreamingTV ['No' 'Yes']\n",
            "StreamingMovies ['No' 'Yes']\n",
            "PaperlessBilling ['Yes' 'No']\n",
            "Churn ['No' 'Yes']\n"
          ],
          "name": "stdout"
        }
      ]
    },
    {
      "cell_type": "code",
      "metadata": {
        "id": "W0-3XK9DVnlk",
        "colab_type": "code",
        "colab": {
          "base_uri": "https://localhost:8080/",
          "height": 340
        },
        "outputId": "5137043b-644a-48dd-ad6d-b81ba2f69668"
      },
      "source": [
        "[[x, chhh[x].unique()] for x in [i for i in chhh.columns if len(chh[i].unique())<10]]"
      ],
      "execution_count": null,
      "outputs": [
        {
          "output_type": "execute_result",
          "data": {
            "text/plain": [
              "[['gender', array([0, 1])],\n",
              " ['SeniorCitizen', array([0, 1])],\n",
              " ['Partner', array([1, 0])],\n",
              " ['Dependents', array([0, 1])],\n",
              " ['PhoneService', array([0, 1])],\n",
              " ['MultipleLines', array([0, 1])],\n",
              " ['InternetService', array(['DSL', 'Fiber optic', 'No'], dtype=object)],\n",
              " ['OnlineSecurity', array([0, 1])],\n",
              " ['OnlineBackup', array([1, 0])],\n",
              " ['DeviceProtection', array([0, 1])],\n",
              " ['TechSupport', array([0, 1])],\n",
              " ['StreamingTV', array([0, 1])],\n",
              " ['StreamingMovies', array([0, 1])],\n",
              " ['Contract', array(['Month-to-month', 'One year', 'Two year'], dtype=object)],\n",
              " ['PaperlessBilling', array([1, 0])],\n",
              " ['PaymentMethod',\n",
              "  array(['Electronic check', 'Mailed check', 'Bank transfer (automatic)',\n",
              "         'Credit card (automatic)'], dtype=object)],\n",
              " ['Churn', array([0, 1])]]"
            ]
          },
          "metadata": {
            "tags": []
          },
          "execution_count": 49
        }
      ]
    },
    {
      "cell_type": "markdown",
      "metadata": {
        "id": "MQeLfDLgW7XW",
        "colab_type": "text"
      },
      "source": [
        "con los que no son de dos valores, vamos a hacerlo manualmente"
      ]
    },
    {
      "cell_type": "code",
      "metadata": {
        "id": "DXzbHK5kW_zE",
        "colab_type": "code",
        "colab": {
          "base_uri": "https://localhost:8080/",
          "height": 600
        },
        "outputId": "fab4bc49-f244-47b8-917c-2f520dd6c40b"
      },
      "source": [
        "labelEncoder = LabelEncoder()\n",
        "print(chhh[\"InternetService\"].value_counts())\n",
        "chhh[\"InternetService\"] = labelEncoder.fit_transform(chhh[\"InternetService\"])\n",
        "chhh[\"InternetService\"].value_counts()\n",
        "\n",
        "print(chhh[\"Contract\"].value_counts())\n",
        "chhh[\"Contract\"] = labelEncoder.fit_transform(chhh[\"Contract\"])\n",
        "chhh[\"Contract\"].value_counts()\n",
        "\n",
        "print(chhh[\"PaymentMethod\"].value_counts())\n",
        "chhh[\"PaymentMethod\"] = labelEncoder.fit_transform(chhh[\"PaymentMethod\"])\n",
        "chhh[\"PaymentMethod\"].value_counts()\n",
        "\n",
        "chhh.head(10)"
      ],
      "execution_count": null,
      "outputs": [
        {
          "output_type": "stream",
          "text": [
            "Fiber optic    3096\n",
            "DSL            2421\n",
            "No             1526\n",
            "Name: InternetService, dtype: int64\n",
            "Month-to-month    3875\n",
            "Two year          1695\n",
            "One year          1473\n",
            "Name: Contract, dtype: int64\n",
            "Electronic check             2365\n",
            "Mailed check                 1612\n",
            "Bank transfer (automatic)    1544\n",
            "Credit card (automatic)      1522\n",
            "Name: PaymentMethod, dtype: int64\n"
          ],
          "name": "stdout"
        },
        {
          "output_type": "execute_result",
          "data": {
            "text/html": [
              "<div>\n",
              "<style scoped>\n",
              "    .dataframe tbody tr th:only-of-type {\n",
              "        vertical-align: middle;\n",
              "    }\n",
              "\n",
              "    .dataframe tbody tr th {\n",
              "        vertical-align: top;\n",
              "    }\n",
              "\n",
              "    .dataframe thead th {\n",
              "        text-align: right;\n",
              "    }\n",
              "</style>\n",
              "<table border=\"1\" class=\"dataframe\">\n",
              "  <thead>\n",
              "    <tr style=\"text-align: right;\">\n",
              "      <th></th>\n",
              "      <th>gender</th>\n",
              "      <th>SeniorCitizen</th>\n",
              "      <th>Partner</th>\n",
              "      <th>Dependents</th>\n",
              "      <th>tenure</th>\n",
              "      <th>PhoneService</th>\n",
              "      <th>MultipleLines</th>\n",
              "      <th>InternetService</th>\n",
              "      <th>OnlineSecurity</th>\n",
              "      <th>OnlineBackup</th>\n",
              "      <th>DeviceProtection</th>\n",
              "      <th>TechSupport</th>\n",
              "      <th>StreamingTV</th>\n",
              "      <th>StreamingMovies</th>\n",
              "      <th>Contract</th>\n",
              "      <th>PaperlessBilling</th>\n",
              "      <th>PaymentMethod</th>\n",
              "      <th>MonthlyCharges</th>\n",
              "      <th>Churn</th>\n",
              "    </tr>\n",
              "  </thead>\n",
              "  <tbody>\n",
              "    <tr>\n",
              "      <th>0</th>\n",
              "      <td>0</td>\n",
              "      <td>0</td>\n",
              "      <td>1</td>\n",
              "      <td>0</td>\n",
              "      <td>1</td>\n",
              "      <td>0</td>\n",
              "      <td>0</td>\n",
              "      <td>0</td>\n",
              "      <td>0</td>\n",
              "      <td>1</td>\n",
              "      <td>0</td>\n",
              "      <td>0</td>\n",
              "      <td>0</td>\n",
              "      <td>0</td>\n",
              "      <td>0</td>\n",
              "      <td>1</td>\n",
              "      <td>2</td>\n",
              "      <td>29.85</td>\n",
              "      <td>0</td>\n",
              "    </tr>\n",
              "    <tr>\n",
              "      <th>1</th>\n",
              "      <td>1</td>\n",
              "      <td>0</td>\n",
              "      <td>0</td>\n",
              "      <td>0</td>\n",
              "      <td>34</td>\n",
              "      <td>1</td>\n",
              "      <td>0</td>\n",
              "      <td>0</td>\n",
              "      <td>1</td>\n",
              "      <td>0</td>\n",
              "      <td>1</td>\n",
              "      <td>0</td>\n",
              "      <td>0</td>\n",
              "      <td>0</td>\n",
              "      <td>1</td>\n",
              "      <td>0</td>\n",
              "      <td>3</td>\n",
              "      <td>56.95</td>\n",
              "      <td>0</td>\n",
              "    </tr>\n",
              "    <tr>\n",
              "      <th>2</th>\n",
              "      <td>1</td>\n",
              "      <td>0</td>\n",
              "      <td>0</td>\n",
              "      <td>0</td>\n",
              "      <td>2</td>\n",
              "      <td>1</td>\n",
              "      <td>0</td>\n",
              "      <td>0</td>\n",
              "      <td>1</td>\n",
              "      <td>1</td>\n",
              "      <td>0</td>\n",
              "      <td>0</td>\n",
              "      <td>0</td>\n",
              "      <td>0</td>\n",
              "      <td>0</td>\n",
              "      <td>1</td>\n",
              "      <td>3</td>\n",
              "      <td>53.85</td>\n",
              "      <td>1</td>\n",
              "    </tr>\n",
              "    <tr>\n",
              "      <th>3</th>\n",
              "      <td>1</td>\n",
              "      <td>0</td>\n",
              "      <td>0</td>\n",
              "      <td>0</td>\n",
              "      <td>45</td>\n",
              "      <td>0</td>\n",
              "      <td>0</td>\n",
              "      <td>0</td>\n",
              "      <td>1</td>\n",
              "      <td>0</td>\n",
              "      <td>1</td>\n",
              "      <td>1</td>\n",
              "      <td>0</td>\n",
              "      <td>0</td>\n",
              "      <td>1</td>\n",
              "      <td>0</td>\n",
              "      <td>0</td>\n",
              "      <td>42.30</td>\n",
              "      <td>0</td>\n",
              "    </tr>\n",
              "    <tr>\n",
              "      <th>4</th>\n",
              "      <td>0</td>\n",
              "      <td>0</td>\n",
              "      <td>0</td>\n",
              "      <td>0</td>\n",
              "      <td>2</td>\n",
              "      <td>1</td>\n",
              "      <td>0</td>\n",
              "      <td>1</td>\n",
              "      <td>0</td>\n",
              "      <td>0</td>\n",
              "      <td>0</td>\n",
              "      <td>0</td>\n",
              "      <td>0</td>\n",
              "      <td>0</td>\n",
              "      <td>0</td>\n",
              "      <td>1</td>\n",
              "      <td>2</td>\n",
              "      <td>70.70</td>\n",
              "      <td>1</td>\n",
              "    </tr>\n",
              "    <tr>\n",
              "      <th>5</th>\n",
              "      <td>0</td>\n",
              "      <td>0</td>\n",
              "      <td>0</td>\n",
              "      <td>0</td>\n",
              "      <td>8</td>\n",
              "      <td>1</td>\n",
              "      <td>1</td>\n",
              "      <td>1</td>\n",
              "      <td>0</td>\n",
              "      <td>0</td>\n",
              "      <td>1</td>\n",
              "      <td>0</td>\n",
              "      <td>1</td>\n",
              "      <td>1</td>\n",
              "      <td>0</td>\n",
              "      <td>1</td>\n",
              "      <td>2</td>\n",
              "      <td>99.65</td>\n",
              "      <td>1</td>\n",
              "    </tr>\n",
              "    <tr>\n",
              "      <th>6</th>\n",
              "      <td>1</td>\n",
              "      <td>0</td>\n",
              "      <td>0</td>\n",
              "      <td>1</td>\n",
              "      <td>22</td>\n",
              "      <td>1</td>\n",
              "      <td>1</td>\n",
              "      <td>1</td>\n",
              "      <td>0</td>\n",
              "      <td>1</td>\n",
              "      <td>0</td>\n",
              "      <td>0</td>\n",
              "      <td>1</td>\n",
              "      <td>0</td>\n",
              "      <td>0</td>\n",
              "      <td>1</td>\n",
              "      <td>1</td>\n",
              "      <td>89.10</td>\n",
              "      <td>0</td>\n",
              "    </tr>\n",
              "    <tr>\n",
              "      <th>7</th>\n",
              "      <td>0</td>\n",
              "      <td>0</td>\n",
              "      <td>0</td>\n",
              "      <td>0</td>\n",
              "      <td>10</td>\n",
              "      <td>0</td>\n",
              "      <td>0</td>\n",
              "      <td>0</td>\n",
              "      <td>1</td>\n",
              "      <td>0</td>\n",
              "      <td>0</td>\n",
              "      <td>0</td>\n",
              "      <td>0</td>\n",
              "      <td>0</td>\n",
              "      <td>0</td>\n",
              "      <td>0</td>\n",
              "      <td>3</td>\n",
              "      <td>29.75</td>\n",
              "      <td>0</td>\n",
              "    </tr>\n",
              "    <tr>\n",
              "      <th>8</th>\n",
              "      <td>0</td>\n",
              "      <td>0</td>\n",
              "      <td>1</td>\n",
              "      <td>0</td>\n",
              "      <td>28</td>\n",
              "      <td>1</td>\n",
              "      <td>1</td>\n",
              "      <td>1</td>\n",
              "      <td>0</td>\n",
              "      <td>0</td>\n",
              "      <td>1</td>\n",
              "      <td>1</td>\n",
              "      <td>1</td>\n",
              "      <td>1</td>\n",
              "      <td>0</td>\n",
              "      <td>1</td>\n",
              "      <td>2</td>\n",
              "      <td>104.80</td>\n",
              "      <td>1</td>\n",
              "    </tr>\n",
              "    <tr>\n",
              "      <th>9</th>\n",
              "      <td>1</td>\n",
              "      <td>0</td>\n",
              "      <td>0</td>\n",
              "      <td>1</td>\n",
              "      <td>62</td>\n",
              "      <td>1</td>\n",
              "      <td>0</td>\n",
              "      <td>0</td>\n",
              "      <td>1</td>\n",
              "      <td>1</td>\n",
              "      <td>0</td>\n",
              "      <td>0</td>\n",
              "      <td>0</td>\n",
              "      <td>0</td>\n",
              "      <td>1</td>\n",
              "      <td>0</td>\n",
              "      <td>0</td>\n",
              "      <td>56.15</td>\n",
              "      <td>0</td>\n",
              "    </tr>\n",
              "  </tbody>\n",
              "</table>\n",
              "</div>"
            ],
            "text/plain": [
              "   gender  SeniorCitizen  Partner  ...  PaymentMethod  MonthlyCharges  Churn\n",
              "0       0              0        1  ...              2           29.85      0\n",
              "1       1              0        0  ...              3           56.95      0\n",
              "2       1              0        0  ...              3           53.85      1\n",
              "3       1              0        0  ...              0           42.30      0\n",
              "4       0              0        0  ...              2           70.70      1\n",
              "5       0              0        0  ...              2           99.65      1\n",
              "6       1              0        0  ...              1           89.10      0\n",
              "7       0              0        0  ...              3           29.75      0\n",
              "8       0              0        1  ...              2          104.80      1\n",
              "9       1              0        0  ...              0           56.15      0\n",
              "\n",
              "[10 rows x 19 columns]"
            ]
          },
          "metadata": {
            "tags": []
          },
          "execution_count": 50
        }
      ]
    },
    {
      "cell_type": "markdown",
      "metadata": {
        "id": "pxECnfryJOXp",
        "colab_type": "text"
      },
      "source": [
        "## Algoritmo de Machine Learning"
      ]
    },
    {
      "cell_type": "markdown",
      "metadata": {
        "id": "mM5836kpAeVc",
        "colab_type": "text"
      },
      "source": [
        "### Con todas la features"
      ]
    },
    {
      "cell_type": "markdown",
      "metadata": {
        "id": "0r4IgryDCYP7",
        "colab_type": "text"
      },
      "source": [
        "El objetivo es ver la probabilidad de que dejen la compañía o no. \n",
        "Para ello, vamos a dividir el data set en un 80% para entreno y un 20% para test"
      ]
    },
    {
      "cell_type": "code",
      "metadata": {
        "id": "GNZA7aBuCos1",
        "colab_type": "code",
        "colab": {}
      },
      "source": [
        "from sklearn.model_selection import train_test_split\n",
        "X=chhh.drop('Churn',axis=1)\n",
        "y=chhh['Churn']\n",
        "\n",
        "X_train, X_test, y_train, y_test = train_test_split(X, y, test_size = 0.25, random_state = 0)"
      ],
      "execution_count": null,
      "outputs": []
    },
    {
      "cell_type": "code",
      "metadata": {
        "id": "QJoSYEtAAgod",
        "colab_type": "code",
        "colab": {}
      },
      "source": [
        "#from sklearn.preprocessing import StandardScaler\n",
        "#scaler = StandardScaler()\n",
        "#X_train = scaler.fit_transform(X_train)\n",
        "#X_test = scaler.transform(X_test)"
      ],
      "execution_count": null,
      "outputs": []
    },
    {
      "cell_type": "code",
      "metadata": {
        "id": "12Gc_k_6iHBX",
        "colab_type": "code",
        "colab": {
          "base_uri": "https://localhost:8080/",
          "height": 340
        },
        "outputId": "67e261e7-7acb-4560-acd2-c35ea730f10b"
      },
      "source": [
        "X_train.dtypes"
      ],
      "execution_count": null,
      "outputs": [
        {
          "output_type": "execute_result",
          "data": {
            "text/plain": [
              "gender                int64\n",
              "SeniorCitizen         int64\n",
              "Partner               int64\n",
              "Dependents            int64\n",
              "tenure                int64\n",
              "PhoneService          int64\n",
              "MultipleLines         int64\n",
              "InternetService       int64\n",
              "OnlineSecurity        int64\n",
              "OnlineBackup          int64\n",
              "DeviceProtection      int64\n",
              "TechSupport           int64\n",
              "StreamingTV           int64\n",
              "StreamingMovies       int64\n",
              "Contract              int64\n",
              "PaperlessBilling      int64\n",
              "PaymentMethod         int64\n",
              "MonthlyCharges      float64\n",
              "dtype: object"
            ]
          },
          "metadata": {
            "tags": []
          },
          "execution_count": 53
        }
      ]
    },
    {
      "cell_type": "code",
      "metadata": {
        "id": "OuOrNASDAIb-",
        "colab_type": "code",
        "colab": {
          "base_uri": "https://localhost:8080/",
          "height": 153
        },
        "outputId": "e3e41ad5-73e5-491a-9188-3793f05ddfba"
      },
      "source": [
        "from sklearn.ensemble import RandomForestClassifier \n",
        "RFC = RandomForestClassifier(max_depth = 7, min_samples_split = 4, n_estimators = 3000,random_state = 30, n_jobs = -1) \n",
        "RFC.fit(X_train, y_train) "
      ],
      "execution_count": null,
      "outputs": [
        {
          "output_type": "execute_result",
          "data": {
            "text/plain": [
              "RandomForestClassifier(bootstrap=True, ccp_alpha=0.0, class_weight=None,\n",
              "                       criterion='gini', max_depth=7, max_features='auto',\n",
              "                       max_leaf_nodes=None, max_samples=None,\n",
              "                       min_impurity_decrease=0.0, min_impurity_split=None,\n",
              "                       min_samples_leaf=1, min_samples_split=4,\n",
              "                       min_weight_fraction_leaf=0.0, n_estimators=3000,\n",
              "                       n_jobs=-1, oob_score=False, random_state=30, verbose=0,\n",
              "                       warm_start=False)"
            ]
          },
          "metadata": {
            "tags": []
          },
          "execution_count": 54
        }
      ]
    },
    {
      "cell_type": "markdown",
      "metadata": {
        "id": "2iWA9FExAiFS",
        "colab_type": "text"
      },
      "source": [
        "### Reducción de features"
      ]
    },
    {
      "cell_type": "code",
      "metadata": {
        "id": "vOSy_cwkqVoi",
        "colab_type": "code",
        "colab": {
          "base_uri": "https://localhost:8080/",
          "height": 68
        },
        "outputId": "b869824b-15ac-4378-fed4-3b2be6a03925"
      },
      "source": [
        "from sklearn.svm import SVC\n",
        "from sklearn.feature_selection import RFE\n",
        "\n",
        "print('Data shape: {}'.format(X.shape))\n",
        "\n",
        "# Create the RFE object and rank each pixel\n",
        "svc = SVC(kernel=\"linear\", C=1) \n",
        "# clf = tree.DecisionTreeClassifier()\n",
        "rfe = RFE(estimator=svc, n_features_to_select=7, step=1)\n",
        "rfe.fit(X, y)\n",
        "print('Ranging features: {}'.format(rfe.ranking_))\n",
        "array=[]\n",
        "for i in range(len(rfe.ranking_)):\n",
        "  if rfe.ranking_[i] != 1:\n",
        "     array.append(X.columns[i])\n",
        "new_X = X\n",
        "new_X = new_X.drop(columns=array)\n",
        "new_X.shape"
      ],
      "execution_count": null,
      "outputs": [
        {
          "output_type": "stream",
          "text": [
            "Data shape: (7043, 18)\n",
            "Ranging features: [10  1 12  3  8  5  9  6  1  1  4  1  1  2  1  1 11  7]\n"
          ],
          "name": "stdout"
        },
        {
          "output_type": "execute_result",
          "data": {
            "text/plain": [
              "(7043, 7)"
            ]
          },
          "metadata": {
            "tags": []
          },
          "execution_count": 55
        }
      ]
    },
    {
      "cell_type": "code",
      "metadata": {
        "id": "2Tn3chIpVG0S",
        "colab_type": "code",
        "colab": {
          "base_uri": "https://localhost:8080/",
          "height": 419
        },
        "outputId": "b080d243-864d-4877-abad-e869d4780ab3"
      },
      "source": [
        "new_X"
      ],
      "execution_count": null,
      "outputs": [
        {
          "output_type": "execute_result",
          "data": {
            "text/html": [
              "<div>\n",
              "<style scoped>\n",
              "    .dataframe tbody tr th:only-of-type {\n",
              "        vertical-align: middle;\n",
              "    }\n",
              "\n",
              "    .dataframe tbody tr th {\n",
              "        vertical-align: top;\n",
              "    }\n",
              "\n",
              "    .dataframe thead th {\n",
              "        text-align: right;\n",
              "    }\n",
              "</style>\n",
              "<table border=\"1\" class=\"dataframe\">\n",
              "  <thead>\n",
              "    <tr style=\"text-align: right;\">\n",
              "      <th></th>\n",
              "      <th>SeniorCitizen</th>\n",
              "      <th>OnlineSecurity</th>\n",
              "      <th>OnlineBackup</th>\n",
              "      <th>TechSupport</th>\n",
              "      <th>StreamingTV</th>\n",
              "      <th>Contract</th>\n",
              "      <th>PaperlessBilling</th>\n",
              "    </tr>\n",
              "  </thead>\n",
              "  <tbody>\n",
              "    <tr>\n",
              "      <th>0</th>\n",
              "      <td>0</td>\n",
              "      <td>0</td>\n",
              "      <td>1</td>\n",
              "      <td>0</td>\n",
              "      <td>0</td>\n",
              "      <td>0</td>\n",
              "      <td>1</td>\n",
              "    </tr>\n",
              "    <tr>\n",
              "      <th>1</th>\n",
              "      <td>0</td>\n",
              "      <td>1</td>\n",
              "      <td>0</td>\n",
              "      <td>0</td>\n",
              "      <td>0</td>\n",
              "      <td>1</td>\n",
              "      <td>0</td>\n",
              "    </tr>\n",
              "    <tr>\n",
              "      <th>2</th>\n",
              "      <td>0</td>\n",
              "      <td>1</td>\n",
              "      <td>1</td>\n",
              "      <td>0</td>\n",
              "      <td>0</td>\n",
              "      <td>0</td>\n",
              "      <td>1</td>\n",
              "    </tr>\n",
              "    <tr>\n",
              "      <th>3</th>\n",
              "      <td>0</td>\n",
              "      <td>1</td>\n",
              "      <td>0</td>\n",
              "      <td>1</td>\n",
              "      <td>0</td>\n",
              "      <td>1</td>\n",
              "      <td>0</td>\n",
              "    </tr>\n",
              "    <tr>\n",
              "      <th>4</th>\n",
              "      <td>0</td>\n",
              "      <td>0</td>\n",
              "      <td>0</td>\n",
              "      <td>0</td>\n",
              "      <td>0</td>\n",
              "      <td>0</td>\n",
              "      <td>1</td>\n",
              "    </tr>\n",
              "    <tr>\n",
              "      <th>...</th>\n",
              "      <td>...</td>\n",
              "      <td>...</td>\n",
              "      <td>...</td>\n",
              "      <td>...</td>\n",
              "      <td>...</td>\n",
              "      <td>...</td>\n",
              "      <td>...</td>\n",
              "    </tr>\n",
              "    <tr>\n",
              "      <th>7038</th>\n",
              "      <td>0</td>\n",
              "      <td>1</td>\n",
              "      <td>0</td>\n",
              "      <td>1</td>\n",
              "      <td>1</td>\n",
              "      <td>1</td>\n",
              "      <td>1</td>\n",
              "    </tr>\n",
              "    <tr>\n",
              "      <th>7039</th>\n",
              "      <td>0</td>\n",
              "      <td>0</td>\n",
              "      <td>1</td>\n",
              "      <td>0</td>\n",
              "      <td>1</td>\n",
              "      <td>1</td>\n",
              "      <td>1</td>\n",
              "    </tr>\n",
              "    <tr>\n",
              "      <th>7040</th>\n",
              "      <td>0</td>\n",
              "      <td>1</td>\n",
              "      <td>0</td>\n",
              "      <td>0</td>\n",
              "      <td>0</td>\n",
              "      <td>0</td>\n",
              "      <td>1</td>\n",
              "    </tr>\n",
              "    <tr>\n",
              "      <th>7041</th>\n",
              "      <td>1</td>\n",
              "      <td>0</td>\n",
              "      <td>0</td>\n",
              "      <td>0</td>\n",
              "      <td>0</td>\n",
              "      <td>0</td>\n",
              "      <td>1</td>\n",
              "    </tr>\n",
              "    <tr>\n",
              "      <th>7042</th>\n",
              "      <td>0</td>\n",
              "      <td>1</td>\n",
              "      <td>0</td>\n",
              "      <td>1</td>\n",
              "      <td>1</td>\n",
              "      <td>2</td>\n",
              "      <td>1</td>\n",
              "    </tr>\n",
              "  </tbody>\n",
              "</table>\n",
              "<p>7043 rows × 7 columns</p>\n",
              "</div>"
            ],
            "text/plain": [
              "      SeniorCitizen  OnlineSecurity  ...  Contract  PaperlessBilling\n",
              "0                 0               0  ...         0                 1\n",
              "1                 0               1  ...         1                 0\n",
              "2                 0               1  ...         0                 1\n",
              "3                 0               1  ...         1                 0\n",
              "4                 0               0  ...         0                 1\n",
              "...             ...             ...  ...       ...               ...\n",
              "7038              0               1  ...         1                 1\n",
              "7039              0               0  ...         1                 1\n",
              "7040              0               1  ...         0                 1\n",
              "7041              1               0  ...         0                 1\n",
              "7042              0               1  ...         2                 1\n",
              "\n",
              "[7043 rows x 7 columns]"
            ]
          },
          "metadata": {
            "tags": []
          },
          "execution_count": 56
        }
      ]
    },
    {
      "cell_type": "code",
      "metadata": {
        "colab_type": "code",
        "id": "LQp95j_FAn_5",
        "colab": {
          "base_uri": "https://localhost:8080/",
          "height": 153
        },
        "outputId": "2f209bc6-ad91-4ed9-ffa2-b83f2a934838"
      },
      "source": [
        "X_train_rf, X_test_rf, y_train_rf, y_test_rf = train_test_split(new_X, y, test_size = 0.25, random_state = 0)\n",
        "RFC_rf = RandomForestClassifier(max_depth = 7, min_samples_split = 4, n_estimators = 3000,random_state = 30, n_jobs = -1) \n",
        "RFC_rf.fit(X_train_rf, y_train_rf)"
      ],
      "execution_count": null,
      "outputs": [
        {
          "output_type": "execute_result",
          "data": {
            "text/plain": [
              "RandomForestClassifier(bootstrap=True, ccp_alpha=0.0, class_weight=None,\n",
              "                       criterion='gini', max_depth=7, max_features='auto',\n",
              "                       max_leaf_nodes=None, max_samples=None,\n",
              "                       min_impurity_decrease=0.0, min_impurity_split=None,\n",
              "                       min_samples_leaf=1, min_samples_split=4,\n",
              "                       min_weight_fraction_leaf=0.0, n_estimators=3000,\n",
              "                       n_jobs=-1, oob_score=False, random_state=30, verbose=0,\n",
              "                       warm_start=False)"
            ]
          },
          "metadata": {
            "tags": []
          },
          "execution_count": 57
        }
      ]
    },
    {
      "cell_type": "markdown",
      "metadata": {
        "id": "d0Cj-GsJJOXp",
        "colab_type": "text"
      },
      "source": [
        "## Resultados"
      ]
    },
    {
      "cell_type": "markdown",
      "metadata": {
        "id": "X9-APH7SA6Sa",
        "colab_type": "text"
      },
      "source": [
        "### Con todas la features"
      ]
    },
    {
      "cell_type": "code",
      "metadata": {
        "id": "nBjzAJqJjtN8",
        "colab_type": "code",
        "colab": {
          "base_uri": "https://localhost:8080/",
          "height": 391
        },
        "outputId": "54c837f3-aa99-40b8-f84a-e7239417b4c5"
      },
      "source": [
        "from sklearn.metrics import accuracy_score\n",
        "from sklearn.metrics import classification_report\n",
        "\n",
        "train_prediction = RFC.predict(X_train)\n",
        "print(\"La accuracy es de train es {}.\".format(accuracy_score(y_train,train_prediction)))\n",
        "print(classification_report(y_train, train_prediction))\n",
        "score_train = RFC.score(X_train,y_train)\n",
        "print('Score: {}'.format(score_train))\n",
        "\n",
        "test_prediction = RFC.predict(X_test)\n",
        "print(\"La accuracy es de test es {}.\".format(accuracy_score(y_test,test_prediction)))\n",
        "print(classification_report(y_test, test_prediction))\n",
        "score_test = RFC.score(X_train,y_train)\n",
        "print('Score: {}'.format(score_test))"
      ],
      "execution_count": null,
      "outputs": [
        {
          "output_type": "stream",
          "text": [
            "La accuracy es de train es 0.8252555850056796.\n",
            "              precision    recall  f1-score   support\n",
            "\n",
            "           0       0.85      0.93      0.89      3876\n",
            "           1       0.73      0.54      0.62      1406\n",
            "\n",
            "    accuracy                           0.83      5282\n",
            "   macro avg       0.79      0.73      0.75      5282\n",
            "weighted avg       0.82      0.83      0.82      5282\n",
            "\n",
            "Score: 0.8252555850056796\n",
            "La accuracy es de test es 0.7887563884156729.\n",
            "              precision    recall  f1-score   support\n",
            "\n",
            "           0       0.82      0.91      0.86      1298\n",
            "           1       0.64      0.44      0.52       463\n",
            "\n",
            "    accuracy                           0.79      1761\n",
            "   macro avg       0.73      0.68      0.69      1761\n",
            "weighted avg       0.77      0.79      0.77      1761\n",
            "\n",
            "Score: 0.8252555850056796\n"
          ],
          "name": "stdout"
        }
      ]
    },
    {
      "cell_type": "code",
      "metadata": {
        "id": "17flM02EnnaN",
        "colab_type": "code",
        "colab": {
          "base_uri": "https://localhost:8080/",
          "height": 553
        },
        "outputId": "7953aafc-e87b-4e51-93bb-684d7cf9c1fa"
      },
      "source": [
        "import matplotlib.pyplot as plt \n",
        "from sklearn.metrics import roc_curve, auc\n",
        "from sklearn.metrics import precision_recall_curve\n",
        "from sklearn.metrics import plot_precision_recall_curve\n",
        "from sklearn.metrics import average_precision_score\n",
        "\n",
        "ax = metrics.plot_roc_curve(RFC, X_test, y_test)\n",
        "\n",
        "average_precision = average_precision_score(y_test, test_prediction)\n",
        "ax1 = plot_precision_recall_curve(RFC, X_test, y_test)"
      ],
      "execution_count": null,
      "outputs": [
        {
          "output_type": "display_data",
          "data": {
            "image/png": "[encoded data removed]",
            "text/plain": [
              "<Figure size 432x288 with 1 Axes>"
            ]
          },
          "metadata": {
            "tags": []
          }
        },
        {
          "output_type": "display_data",
          "data": {
            "image/png": "[encoded data removed]",
            "text/plain": [
              "<Figure size 432x288 with 1 Axes>"
            ]
          },
          "metadata": {
            "tags": []
          }
        }
      ]
    },
    {
      "cell_type": "markdown",
      "metadata": {
        "id": "zvQb2sqhA3PS",
        "colab_type": "text"
      },
      "source": [
        "### Reducción de features"
      ]
    },
    {
      "cell_type": "code",
      "metadata": {
        "id": "4bgnZEH_A2mt",
        "colab_type": "code",
        "colab": {
          "base_uri": "https://localhost:8080/",
          "height": 391
        },
        "outputId": "61eb91c8-b68a-4df9-daa8-0415c2fc64a0"
      },
      "source": [
        "train_prediction_rf = RFC_rf.predict(X_train_rf)\n",
        "print(\"La accuracy es de train es {}.\".format(accuracy_score(y_train_rf,train_prediction_rf)))\n",
        "print(classification_report(y_train_rf, train_prediction_rf))\n",
        "score_train = RFC_rf.score(X_train_rf,y_train_rf)\n",
        "print('Score: {}'.format(score_train))\n",
        "\n",
        "test_prediction_rf = RFC_rf.predict(X_test_rf)\n",
        "print(\"La accuracy es de test es {}.\".format(accuracy_score(y_test_rf,test_prediction_rf)))\n",
        "print(classification_report(y_test_rf, test_prediction_rf))\n",
        "score_test = RFC_rf.score(X_train_rf,y_train_rf)\n",
        "print('Score: {}'.format(score_test))"
      ],
      "execution_count": null,
      "outputs": [
        {
          "output_type": "stream",
          "text": [
            "La accuracy es de train es 0.7692162059825823.\n",
            "              precision    recall  f1-score   support\n",
            "\n",
            "           0       0.79      0.94      0.86      3876\n",
            "           1       0.64      0.31      0.42      1406\n",
            "\n",
            "    accuracy                           0.77      5282\n",
            "   macro avg       0.71      0.62      0.64      5282\n",
            "weighted avg       0.75      0.77      0.74      5282\n",
            "\n",
            "Score: 0.7692162059825823\n",
            "La accuracy es de test es 0.7535491198182851.\n",
            "              precision    recall  f1-score   support\n",
            "\n",
            "           0       0.78      0.92      0.85      1298\n",
            "           1       0.56      0.28      0.37       463\n",
            "\n",
            "    accuracy                           0.75      1761\n",
            "   macro avg       0.67      0.60      0.61      1761\n",
            "weighted avg       0.72      0.75      0.72      1761\n",
            "\n",
            "Score: 0.7692162059825823\n"
          ],
          "name": "stdout"
        }
      ]
    },
    {
      "cell_type": "code",
      "metadata": {
        "id": "u74ziHF8opA7",
        "colab_type": "code",
        "colab": {
          "base_uri": "https://localhost:8080/",
          "height": 553
        },
        "outputId": "2d52cb23-a11a-4bd5-9aa0-e528257de905"
      },
      "source": [
        "ax = metrics.plot_roc_curve(RFC_rf, X_test_rf, y_test_rf)\n",
        "\n",
        "average_precision_rt = average_precision_score(y_test_rf, test_prediction_rf)\n",
        "ax1 = plot_precision_recall_curve(RFC_rf, X_test_rf, y_test_rf)"
      ],
      "execution_count": null,
      "outputs": [
        {
          "output_type": "display_data",
          "data": {
            "image/png": "[encoded data removed]",
            "text/plain": [
              "<Figure size 432x288 with 1 Axes>"
            ]
          },
          "metadata": {
            "tags": []
          }
        },
        {
          "output_type": "display_data",
          "data": {
            "image/png": "[encoded data removed]",
            "text/plain": [
              "<Figure size 432x288 with 1 Axes>"
            ]
          },
          "metadata": {
            "tags": []
          }
        }
      ]
    },
    {
      "cell_type": "markdown",
      "metadata": {
        "id": "TbhD79rUJOXq",
        "colab_type": "text"
      },
      "source": [
        " ## Discusión y Conclusiones"
      ]
    },
    {
      "cell_type": "markdown",
      "metadata": {
        "id": "pkgGSz_C3L_b",
        "colab_type": "text"
      },
      "source": [
        "He probat el model RFC amb 10 i 9 features i dona 0.76 d'accuracy, perdem un 0.02 comparat quan tenim 18 features però crec que ens podem quedar amb menys features si nomes perdem un 0.02"
      ]
    },
    {
      "cell_type": "markdown",
      "metadata": {
        "id": "mFczg3og30Ip",
        "colab_type": "text"
      },
      "source": [
        "Amb 7 features arribem a un 75% crec que podem deixarho aqui"
      ]
    },
    {
      "cell_type": "markdown",
      "metadata": {
        "id": "cLKtDzHtJOXq",
        "colab_type": "text"
      },
      "source": [
        "## Linias de desarrollo futuro"
      ]
    },
    {
      "cell_type": "markdown",
      "metadata": {
        "id": "wMKeHyI1JOXr",
        "colab_type": "text"
      },
      "source": [
        "### Annexo 1 : Guardar y/o cargar el modelo\n"
      ]
    },
    {
      "cell_type": "code",
      "metadata": {
        "id": "7S4B4NXAG4Vf",
        "colab_type": "code",
        "colab": {}
      },
      "source": [
        "#from google.colab import drive \n",
        "#drive.mount('/content/gdrive')"
      ],
      "execution_count": null,
      "outputs": []
    },
    {
      "cell_type": "code",
      "metadata": {
        "id": "e0uwn4-gHKTX",
        "colab_type": "code",
        "colab": {}
      },
      "source": [
        "#import joblib\n",
        "#filename_rfc = '/content/gdrive/My Drive/Colab Notebooks/Projecte Final IML/Modelos/model_churn_rf.pkl'\n",
        "#filename = '/content/gdrive/My Drive/Colab Notebooks/Projecte Final IML/Modelos/model_churn.pkl'\n",
        "#joblib.dump(RFC, filename)\n",
        "#joblib.dump(RFC_rf, filename_rfc)"
      ],
      "execution_count": null,
      "outputs": []
    },
    {
      "cell_type": "code",
      "metadata": {
        "id": "bFYTYo2QG_Ze",
        "colab_type": "code",
        "colab": {}
      },
      "source": [
        "#RFC = joblib.load('/content/gdrive/My Drive/Colab Notebooks/Projecte Final IML/Modelos/model_churn.pkl')\n",
        "#RFC_rf= joblib.load('/content/gdrive/My Drive/Colab Notebooks/Projecte Final IML/Modelos/model_churn_rf.pkl')"
      ],
      "execution_count": null,
      "outputs": []
    },
    {
      "cell_type": "markdown",
      "metadata": {
        "id": "zipLZlRIJOXr",
        "colab_type": "text"
      },
      "source": [
        "### Annexo 2 : Interfície CEO"
      ]
    },
    {
      "cell_type": "markdown",
      "metadata": {
        "id": "gEvA5r8pD1xR",
        "colab_type": "text"
      },
      "source": [
        "imlpython.westeurope.cloudapp.azure.com:1880/ui"
      ]
    }
  ]
}