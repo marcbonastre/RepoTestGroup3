{
  "nbformat": 4,
  "nbformat_minor": 0,
  "metadata": {
    "colab": {
      "name": "BT_MLT_AmesHouse.ipynb",
      "provenance": [],
      "collapsed_sections": [
        "6tVyTmGrOt0o",
        "UDtAq2rQ3MhW",
        "TjTTK_U4wK0O"
      ],
      "toc_visible": true,
      "include_colab_link": true
    },
    "kernelspec": {
      "name": "python3",
      "display_name": "Python 3"
    }
  },
  "cells": [
    {
      "cell_type": "markdown",
      "metadata": {
        "id": "view-in-github",
        "colab_type": "text"
      },
      "source": [
        "<a href=\"https://colab.research.google.com/github/marcbonastre/RepoTestGroup3/blob/master/PROYECTO_FINAL/Notebooks/BT_MLT_AmesHouse.ipynb\" target=\"_parent\"><img src=\"https://colab.research.google.com/assets/colab-badge.svg\" alt=\"Open In Colab\"/></a>"
      ]
    },
    {
      "cell_type": "markdown",
      "metadata": {
        "id": "upwk3o8SJOXm",
        "colab_type": "text"
      },
      "source": [
        "# Reporte de MLT de Barcelona Telco"
      ]
    },
    {
      "cell_type": "markdown",
      "metadata": {
        "id": "sIvuHwWBJOXn",
        "colab_type": "text"
      },
      "source": [
        "## Problema ha solucionar\n"
      ]
    },
    {
      "cell_type": "markdown",
      "metadata": {
        "id": "B7GQ9PR0Vh7g",
        "colab_type": "text"
      },
      "source": [
        "Barcelona Telco liderará la ejecución y explotación del datacenter con sus partners. Desde el equipo ejecutivo se ha decidido que se\n",
        "enviará a un equipo de gente clave como dispatched employees. A tal efecto, y para dotar de flexibilidad a la compañía y ayudar a los\n",
        "empleados se ha decidido comprar las propiedades donde el equipo, de no más de 10 personas, van a vivir. Esto es una inversión\n",
        "grande pero estas casas serán claves para el sistema distribuido de energía.\n",
        "\n",
        "El CEO con el director de innovación han propuesto los siguientes challenges:\n",
        "• Con el dataset de precios de las casa en Ames, Iowa:\n",
        "1. Generar un modelo que sea capaz de predecir el precio de las casas\n",
        "dadas sus características.\n",
        "2. Simplificar el modelo con menos datos de entrada y usar aquellos\n",
        "importantes para un empleado y dadas las limitaciones."
      ]
    },
    {
      "cell_type": "markdown",
      "metadata": {
        "id": "h4ByGDe2JOXo",
        "colab_type": "text"
      },
      "source": [
        "## Data"
      ]
    },
    {
      "cell_type": "code",
      "metadata": {
        "id": "V0jaVPWdxZlm",
        "colab_type": "code",
        "colab": {
          "base_uri": "https://localhost:8080/",
          "height": 71
        },
        "outputId": "f778ea02-7368-4fbf-8636-7aeb5cdd34b7"
      },
      "source": [
        "import matplotlib.pyplot as plt\n",
        "import seaborn as sns  \n",
        "import pandas as pd\n",
        "from sklearn import preprocessing\n",
        "from sklearn.ensemble import RandomForestClassifier  \n",
        "from sklearn.metrics import classification_report\n",
        "from sklearn.metrics import accuracy_score\n",
        "from sklearn.model_selection import train_test_split\n",
        "from sklearn.preprocessing import LabelEncoder"
      ],
      "execution_count": 2,
      "outputs": [
        {
          "output_type": "stream",
          "text": [
            "/usr/local/lib/python3.6/dist-packages/statsmodels/tools/_testing.py:19: FutureWarning: pandas.util.testing is deprecated. Use the functions in the public API at pandas.testing instead.\n",
            "  import pandas.util.testing as tm\n"
          ],
          "name": "stderr"
        }
      ]
    },
    {
      "cell_type": "code",
      "metadata": {
        "id": "yHSyUiIiGidj",
        "colab_type": "code",
        "colab": {
          "base_uri": "https://localhost:8080/",
          "height": 34
        },
        "outputId": "fed840d3-1bab-44b8-ec27-4492cb9ae4cf"
      },
      "source": [
        "df = pd.read_csv('https://raw.githubusercontent.com/marcbonastre/RepoTestGroup3/master/PROYECTO_FINAL/Datasets/Ames%20Housing%20Price/train.csv',header=0,index_col='Id')\n",
        "print(df.shape)"
      ],
      "execution_count": 3,
      "outputs": [
        {
          "output_type": "stream",
          "text": [
            "(1460, 80)\n"
          ],
          "name": "stdout"
        }
      ]
    },
    {
      "cell_type": "markdown",
      "metadata": {
        "id": "JZu8MzzMrQU3",
        "colab_type": "text"
      },
      "source": [
        "##Data Exploratory"
      ]
    },
    {
      "cell_type": "code",
      "metadata": {
        "id": "d6fGbhZV1IGr",
        "colab_type": "code",
        "colab": {
          "base_uri": "https://localhost:8080/",
          "height": 255
        },
        "outputId": "b2b530bc-b704-4091-c97f-bc8dfe308f05"
      },
      "source": [
        "df.tail(5)"
      ],
      "execution_count": 4,
      "outputs": [
        {
          "output_type": "execute_result",
          "data": {
            "text/html": [
              "<div>\n",
              "<style scoped>\n",
              "    .dataframe tbody tr th:only-of-type {\n",
              "        vertical-align: middle;\n",
              "    }\n",
              "\n",
              "    .dataframe tbody tr th {\n",
              "        vertical-align: top;\n",
              "    }\n",
              "\n",
              "    .dataframe thead th {\n",
              "        text-align: right;\n",
              "    }\n",
              "</style>\n",
              "<table border=\"1\" class=\"dataframe\">\n",
              "  <thead>\n",
              "    <tr style=\"text-align: right;\">\n",
              "      <th></th>\n",
              "      <th>MSSubClass</th>\n",
              "      <th>MSZoning</th>\n",
              "      <th>LotFrontage</th>\n",
              "      <th>LotArea</th>\n",
              "      <th>Street</th>\n",
              "      <th>Alley</th>\n",
              "      <th>LotShape</th>\n",
              "      <th>LandContour</th>\n",
              "      <th>Utilities</th>\n",
              "      <th>LotConfig</th>\n",
              "      <th>LandSlope</th>\n",
              "      <th>Neighborhood</th>\n",
              "      <th>Condition1</th>\n",
              "      <th>Condition2</th>\n",
              "      <th>BldgType</th>\n",
              "      <th>HouseStyle</th>\n",
              "      <th>OverallQual</th>\n",
              "      <th>OverallCond</th>\n",
              "      <th>YearBuilt</th>\n",
              "      <th>YearRemodAdd</th>\n",
              "      <th>RoofStyle</th>\n",
              "      <th>RoofMatl</th>\n",
              "      <th>Exterior1st</th>\n",
              "      <th>Exterior2nd</th>\n",
              "      <th>MasVnrType</th>\n",
              "      <th>MasVnrArea</th>\n",
              "      <th>ExterQual</th>\n",
              "      <th>ExterCond</th>\n",
              "      <th>Foundation</th>\n",
              "      <th>BsmtQual</th>\n",
              "      <th>BsmtCond</th>\n",
              "      <th>BsmtExposure</th>\n",
              "      <th>BsmtFinType1</th>\n",
              "      <th>BsmtFinSF1</th>\n",
              "      <th>BsmtFinType2</th>\n",
              "      <th>BsmtFinSF2</th>\n",
              "      <th>BsmtUnfSF</th>\n",
              "      <th>TotalBsmtSF</th>\n",
              "      <th>Heating</th>\n",
              "      <th>HeatingQC</th>\n",
              "      <th>CentralAir</th>\n",
              "      <th>Electrical</th>\n",
              "      <th>1stFlrSF</th>\n",
              "      <th>2ndFlrSF</th>\n",
              "      <th>LowQualFinSF</th>\n",
              "      <th>GrLivArea</th>\n",
              "      <th>BsmtFullBath</th>\n",
              "      <th>BsmtHalfBath</th>\n",
              "      <th>FullBath</th>\n",
              "      <th>HalfBath</th>\n",
              "      <th>BedroomAbvGr</th>\n",
              "      <th>KitchenAbvGr</th>\n",
              "      <th>KitchenQual</th>\n",
              "      <th>TotRmsAbvGrd</th>\n",
              "      <th>Functional</th>\n",
              "      <th>Fireplaces</th>\n",
              "      <th>FireplaceQu</th>\n",
              "      <th>GarageType</th>\n",
              "      <th>GarageYrBlt</th>\n",
              "      <th>GarageFinish</th>\n",
              "      <th>GarageCars</th>\n",
              "      <th>GarageArea</th>\n",
              "      <th>GarageQual</th>\n",
              "      <th>GarageCond</th>\n",
              "      <th>PavedDrive</th>\n",
              "      <th>WoodDeckSF</th>\n",
              "      <th>OpenPorchSF</th>\n",
              "      <th>EnclosedPorch</th>\n",
              "      <th>3SsnPorch</th>\n",
              "      <th>ScreenPorch</th>\n",
              "      <th>PoolArea</th>\n",
              "      <th>PoolQC</th>\n",
              "      <th>Fence</th>\n",
              "      <th>MiscFeature</th>\n",
              "      <th>MiscVal</th>\n",
              "      <th>MoSold</th>\n",
              "      <th>YrSold</th>\n",
              "      <th>SaleType</th>\n",
              "      <th>SaleCondition</th>\n",
              "      <th>SalePrice</th>\n",
              "    </tr>\n",
              "    <tr>\n",
              "      <th>Id</th>\n",
              "      <th></th>\n",
              "      <th></th>\n",
              "      <th></th>\n",
              "      <th></th>\n",
              "      <th></th>\n",
              "      <th></th>\n",
              "      <th></th>\n",
              "      <th></th>\n",
              "      <th></th>\n",
              "      <th></th>\n",
              "      <th></th>\n",
              "      <th></th>\n",
              "      <th></th>\n",
              "      <th></th>\n",
              "      <th></th>\n",
              "      <th></th>\n",
              "      <th></th>\n",
              "      <th></th>\n",
              "      <th></th>\n",
              "      <th></th>\n",
              "      <th></th>\n",
              "      <th></th>\n",
              "      <th></th>\n",
              "      <th></th>\n",
              "      <th></th>\n",
              "      <th></th>\n",
              "      <th></th>\n",
              "      <th></th>\n",
              "      <th></th>\n",
              "      <th></th>\n",
              "      <th></th>\n",
              "      <th></th>\n",
              "      <th></th>\n",
              "      <th></th>\n",
              "      <th></th>\n",
              "      <th></th>\n",
              "      <th></th>\n",
              "      <th></th>\n",
              "      <th></th>\n",
              "      <th></th>\n",
              "      <th></th>\n",
              "      <th></th>\n",
              "      <th></th>\n",
              "      <th></th>\n",
              "      <th></th>\n",
              "      <th></th>\n",
              "      <th></th>\n",
              "      <th></th>\n",
              "      <th></th>\n",
              "      <th></th>\n",
              "      <th></th>\n",
              "      <th></th>\n",
              "      <th></th>\n",
              "      <th></th>\n",
              "      <th></th>\n",
              "      <th></th>\n",
              "      <th></th>\n",
              "      <th></th>\n",
              "      <th></th>\n",
              "      <th></th>\n",
              "      <th></th>\n",
              "      <th></th>\n",
              "      <th></th>\n",
              "      <th></th>\n",
              "      <th></th>\n",
              "      <th></th>\n",
              "      <th></th>\n",
              "      <th></th>\n",
              "      <th></th>\n",
              "      <th></th>\n",
              "      <th></th>\n",
              "      <th></th>\n",
              "      <th></th>\n",
              "      <th></th>\n",
              "      <th></th>\n",
              "      <th></th>\n",
              "      <th></th>\n",
              "      <th></th>\n",
              "      <th></th>\n",
              "      <th></th>\n",
              "    </tr>\n",
              "  </thead>\n",
              "  <tbody>\n",
              "    <tr>\n",
              "      <th>1456</th>\n",
              "      <td>60</td>\n",
              "      <td>RL</td>\n",
              "      <td>62.0</td>\n",
              "      <td>7917</td>\n",
              "      <td>Pave</td>\n",
              "      <td>NaN</td>\n",
              "      <td>Reg</td>\n",
              "      <td>Lvl</td>\n",
              "      <td>AllPub</td>\n",
              "      <td>Inside</td>\n",
              "      <td>Gtl</td>\n",
              "      <td>Gilbert</td>\n",
              "      <td>Norm</td>\n",
              "      <td>Norm</td>\n",
              "      <td>1Fam</td>\n",
              "      <td>2Story</td>\n",
              "      <td>6</td>\n",
              "      <td>5</td>\n",
              "      <td>1999</td>\n",
              "      <td>2000</td>\n",
              "      <td>Gable</td>\n",
              "      <td>CompShg</td>\n",
              "      <td>VinylSd</td>\n",
              "      <td>VinylSd</td>\n",
              "      <td>None</td>\n",
              "      <td>0.0</td>\n",
              "      <td>TA</td>\n",
              "      <td>TA</td>\n",
              "      <td>PConc</td>\n",
              "      <td>Gd</td>\n",
              "      <td>TA</td>\n",
              "      <td>No</td>\n",
              "      <td>Unf</td>\n",
              "      <td>0</td>\n",
              "      <td>Unf</td>\n",
              "      <td>0</td>\n",
              "      <td>953</td>\n",
              "      <td>953</td>\n",
              "      <td>GasA</td>\n",
              "      <td>Ex</td>\n",
              "      <td>Y</td>\n",
              "      <td>SBrkr</td>\n",
              "      <td>953</td>\n",
              "      <td>694</td>\n",
              "      <td>0</td>\n",
              "      <td>1647</td>\n",
              "      <td>0</td>\n",
              "      <td>0</td>\n",
              "      <td>2</td>\n",
              "      <td>1</td>\n",
              "      <td>3</td>\n",
              "      <td>1</td>\n",
              "      <td>TA</td>\n",
              "      <td>7</td>\n",
              "      <td>Typ</td>\n",
              "      <td>1</td>\n",
              "      <td>TA</td>\n",
              "      <td>Attchd</td>\n",
              "      <td>1999.0</td>\n",
              "      <td>RFn</td>\n",
              "      <td>2</td>\n",
              "      <td>460</td>\n",
              "      <td>TA</td>\n",
              "      <td>TA</td>\n",
              "      <td>Y</td>\n",
              "      <td>0</td>\n",
              "      <td>40</td>\n",
              "      <td>0</td>\n",
              "      <td>0</td>\n",
              "      <td>0</td>\n",
              "      <td>0</td>\n",
              "      <td>NaN</td>\n",
              "      <td>NaN</td>\n",
              "      <td>NaN</td>\n",
              "      <td>0</td>\n",
              "      <td>8</td>\n",
              "      <td>2007</td>\n",
              "      <td>WD</td>\n",
              "      <td>Normal</td>\n",
              "      <td>175000</td>\n",
              "    </tr>\n",
              "    <tr>\n",
              "      <th>1457</th>\n",
              "      <td>20</td>\n",
              "      <td>RL</td>\n",
              "      <td>85.0</td>\n",
              "      <td>13175</td>\n",
              "      <td>Pave</td>\n",
              "      <td>NaN</td>\n",
              "      <td>Reg</td>\n",
              "      <td>Lvl</td>\n",
              "      <td>AllPub</td>\n",
              "      <td>Inside</td>\n",
              "      <td>Gtl</td>\n",
              "      <td>NWAmes</td>\n",
              "      <td>Norm</td>\n",
              "      <td>Norm</td>\n",
              "      <td>1Fam</td>\n",
              "      <td>1Story</td>\n",
              "      <td>6</td>\n",
              "      <td>6</td>\n",
              "      <td>1978</td>\n",
              "      <td>1988</td>\n",
              "      <td>Gable</td>\n",
              "      <td>CompShg</td>\n",
              "      <td>Plywood</td>\n",
              "      <td>Plywood</td>\n",
              "      <td>Stone</td>\n",
              "      <td>119.0</td>\n",
              "      <td>TA</td>\n",
              "      <td>TA</td>\n",
              "      <td>CBlock</td>\n",
              "      <td>Gd</td>\n",
              "      <td>TA</td>\n",
              "      <td>No</td>\n",
              "      <td>ALQ</td>\n",
              "      <td>790</td>\n",
              "      <td>Rec</td>\n",
              "      <td>163</td>\n",
              "      <td>589</td>\n",
              "      <td>1542</td>\n",
              "      <td>GasA</td>\n",
              "      <td>TA</td>\n",
              "      <td>Y</td>\n",
              "      <td>SBrkr</td>\n",
              "      <td>2073</td>\n",
              "      <td>0</td>\n",
              "      <td>0</td>\n",
              "      <td>2073</td>\n",
              "      <td>1</td>\n",
              "      <td>0</td>\n",
              "      <td>2</td>\n",
              "      <td>0</td>\n",
              "      <td>3</td>\n",
              "      <td>1</td>\n",
              "      <td>TA</td>\n",
              "      <td>7</td>\n",
              "      <td>Min1</td>\n",
              "      <td>2</td>\n",
              "      <td>TA</td>\n",
              "      <td>Attchd</td>\n",
              "      <td>1978.0</td>\n",
              "      <td>Unf</td>\n",
              "      <td>2</td>\n",
              "      <td>500</td>\n",
              "      <td>TA</td>\n",
              "      <td>TA</td>\n",
              "      <td>Y</td>\n",
              "      <td>349</td>\n",
              "      <td>0</td>\n",
              "      <td>0</td>\n",
              "      <td>0</td>\n",
              "      <td>0</td>\n",
              "      <td>0</td>\n",
              "      <td>NaN</td>\n",
              "      <td>MnPrv</td>\n",
              "      <td>NaN</td>\n",
              "      <td>0</td>\n",
              "      <td>2</td>\n",
              "      <td>2010</td>\n",
              "      <td>WD</td>\n",
              "      <td>Normal</td>\n",
              "      <td>210000</td>\n",
              "    </tr>\n",
              "    <tr>\n",
              "      <th>1458</th>\n",
              "      <td>70</td>\n",
              "      <td>RL</td>\n",
              "      <td>66.0</td>\n",
              "      <td>9042</td>\n",
              "      <td>Pave</td>\n",
              "      <td>NaN</td>\n",
              "      <td>Reg</td>\n",
              "      <td>Lvl</td>\n",
              "      <td>AllPub</td>\n",
              "      <td>Inside</td>\n",
              "      <td>Gtl</td>\n",
              "      <td>Crawfor</td>\n",
              "      <td>Norm</td>\n",
              "      <td>Norm</td>\n",
              "      <td>1Fam</td>\n",
              "      <td>2Story</td>\n",
              "      <td>7</td>\n",
              "      <td>9</td>\n",
              "      <td>1941</td>\n",
              "      <td>2006</td>\n",
              "      <td>Gable</td>\n",
              "      <td>CompShg</td>\n",
              "      <td>CemntBd</td>\n",
              "      <td>CmentBd</td>\n",
              "      <td>None</td>\n",
              "      <td>0.0</td>\n",
              "      <td>Ex</td>\n",
              "      <td>Gd</td>\n",
              "      <td>Stone</td>\n",
              "      <td>TA</td>\n",
              "      <td>Gd</td>\n",
              "      <td>No</td>\n",
              "      <td>GLQ</td>\n",
              "      <td>275</td>\n",
              "      <td>Unf</td>\n",
              "      <td>0</td>\n",
              "      <td>877</td>\n",
              "      <td>1152</td>\n",
              "      <td>GasA</td>\n",
              "      <td>Ex</td>\n",
              "      <td>Y</td>\n",
              "      <td>SBrkr</td>\n",
              "      <td>1188</td>\n",
              "      <td>1152</td>\n",
              "      <td>0</td>\n",
              "      <td>2340</td>\n",
              "      <td>0</td>\n",
              "      <td>0</td>\n",
              "      <td>2</td>\n",
              "      <td>0</td>\n",
              "      <td>4</td>\n",
              "      <td>1</td>\n",
              "      <td>Gd</td>\n",
              "      <td>9</td>\n",
              "      <td>Typ</td>\n",
              "      <td>2</td>\n",
              "      <td>Gd</td>\n",
              "      <td>Attchd</td>\n",
              "      <td>1941.0</td>\n",
              "      <td>RFn</td>\n",
              "      <td>1</td>\n",
              "      <td>252</td>\n",
              "      <td>TA</td>\n",
              "      <td>TA</td>\n",
              "      <td>Y</td>\n",
              "      <td>0</td>\n",
              "      <td>60</td>\n",
              "      <td>0</td>\n",
              "      <td>0</td>\n",
              "      <td>0</td>\n",
              "      <td>0</td>\n",
              "      <td>NaN</td>\n",
              "      <td>GdPrv</td>\n",
              "      <td>Shed</td>\n",
              "      <td>2500</td>\n",
              "      <td>5</td>\n",
              "      <td>2010</td>\n",
              "      <td>WD</td>\n",
              "      <td>Normal</td>\n",
              "      <td>266500</td>\n",
              "    </tr>\n",
              "    <tr>\n",
              "      <th>1459</th>\n",
              "      <td>20</td>\n",
              "      <td>RL</td>\n",
              "      <td>68.0</td>\n",
              "      <td>9717</td>\n",
              "      <td>Pave</td>\n",
              "      <td>NaN</td>\n",
              "      <td>Reg</td>\n",
              "      <td>Lvl</td>\n",
              "      <td>AllPub</td>\n",
              "      <td>Inside</td>\n",
              "      <td>Gtl</td>\n",
              "      <td>NAmes</td>\n",
              "      <td>Norm</td>\n",
              "      <td>Norm</td>\n",
              "      <td>1Fam</td>\n",
              "      <td>1Story</td>\n",
              "      <td>5</td>\n",
              "      <td>6</td>\n",
              "      <td>1950</td>\n",
              "      <td>1996</td>\n",
              "      <td>Hip</td>\n",
              "      <td>CompShg</td>\n",
              "      <td>MetalSd</td>\n",
              "      <td>MetalSd</td>\n",
              "      <td>None</td>\n",
              "      <td>0.0</td>\n",
              "      <td>TA</td>\n",
              "      <td>TA</td>\n",
              "      <td>CBlock</td>\n",
              "      <td>TA</td>\n",
              "      <td>TA</td>\n",
              "      <td>Mn</td>\n",
              "      <td>GLQ</td>\n",
              "      <td>49</td>\n",
              "      <td>Rec</td>\n",
              "      <td>1029</td>\n",
              "      <td>0</td>\n",
              "      <td>1078</td>\n",
              "      <td>GasA</td>\n",
              "      <td>Gd</td>\n",
              "      <td>Y</td>\n",
              "      <td>FuseA</td>\n",
              "      <td>1078</td>\n",
              "      <td>0</td>\n",
              "      <td>0</td>\n",
              "      <td>1078</td>\n",
              "      <td>1</td>\n",
              "      <td>0</td>\n",
              "      <td>1</td>\n",
              "      <td>0</td>\n",
              "      <td>2</td>\n",
              "      <td>1</td>\n",
              "      <td>Gd</td>\n",
              "      <td>5</td>\n",
              "      <td>Typ</td>\n",
              "      <td>0</td>\n",
              "      <td>NaN</td>\n",
              "      <td>Attchd</td>\n",
              "      <td>1950.0</td>\n",
              "      <td>Unf</td>\n",
              "      <td>1</td>\n",
              "      <td>240</td>\n",
              "      <td>TA</td>\n",
              "      <td>TA</td>\n",
              "      <td>Y</td>\n",
              "      <td>366</td>\n",
              "      <td>0</td>\n",
              "      <td>112</td>\n",
              "      <td>0</td>\n",
              "      <td>0</td>\n",
              "      <td>0</td>\n",
              "      <td>NaN</td>\n",
              "      <td>NaN</td>\n",
              "      <td>NaN</td>\n",
              "      <td>0</td>\n",
              "      <td>4</td>\n",
              "      <td>2010</td>\n",
              "      <td>WD</td>\n",
              "      <td>Normal</td>\n",
              "      <td>142125</td>\n",
              "    </tr>\n",
              "    <tr>\n",
              "      <th>1460</th>\n",
              "      <td>20</td>\n",
              "      <td>RL</td>\n",
              "      <td>75.0</td>\n",
              "      <td>9937</td>\n",
              "      <td>Pave</td>\n",
              "      <td>NaN</td>\n",
              "      <td>Reg</td>\n",
              "      <td>Lvl</td>\n",
              "      <td>AllPub</td>\n",
              "      <td>Inside</td>\n",
              "      <td>Gtl</td>\n",
              "      <td>Edwards</td>\n",
              "      <td>Norm</td>\n",
              "      <td>Norm</td>\n",
              "      <td>1Fam</td>\n",
              "      <td>1Story</td>\n",
              "      <td>5</td>\n",
              "      <td>6</td>\n",
              "      <td>1965</td>\n",
              "      <td>1965</td>\n",
              "      <td>Gable</td>\n",
              "      <td>CompShg</td>\n",
              "      <td>HdBoard</td>\n",
              "      <td>HdBoard</td>\n",
              "      <td>None</td>\n",
              "      <td>0.0</td>\n",
              "      <td>Gd</td>\n",
              "      <td>TA</td>\n",
              "      <td>CBlock</td>\n",
              "      <td>TA</td>\n",
              "      <td>TA</td>\n",
              "      <td>No</td>\n",
              "      <td>BLQ</td>\n",
              "      <td>830</td>\n",
              "      <td>LwQ</td>\n",
              "      <td>290</td>\n",
              "      <td>136</td>\n",
              "      <td>1256</td>\n",
              "      <td>GasA</td>\n",
              "      <td>Gd</td>\n",
              "      <td>Y</td>\n",
              "      <td>SBrkr</td>\n",
              "      <td>1256</td>\n",
              "      <td>0</td>\n",
              "      <td>0</td>\n",
              "      <td>1256</td>\n",
              "      <td>1</td>\n",
              "      <td>0</td>\n",
              "      <td>1</td>\n",
              "      <td>1</td>\n",
              "      <td>3</td>\n",
              "      <td>1</td>\n",
              "      <td>TA</td>\n",
              "      <td>6</td>\n",
              "      <td>Typ</td>\n",
              "      <td>0</td>\n",
              "      <td>NaN</td>\n",
              "      <td>Attchd</td>\n",
              "      <td>1965.0</td>\n",
              "      <td>Fin</td>\n",
              "      <td>1</td>\n",
              "      <td>276</td>\n",
              "      <td>TA</td>\n",
              "      <td>TA</td>\n",
              "      <td>Y</td>\n",
              "      <td>736</td>\n",
              "      <td>68</td>\n",
              "      <td>0</td>\n",
              "      <td>0</td>\n",
              "      <td>0</td>\n",
              "      <td>0</td>\n",
              "      <td>NaN</td>\n",
              "      <td>NaN</td>\n",
              "      <td>NaN</td>\n",
              "      <td>0</td>\n",
              "      <td>6</td>\n",
              "      <td>2008</td>\n",
              "      <td>WD</td>\n",
              "      <td>Normal</td>\n",
              "      <td>147500</td>\n",
              "    </tr>\n",
              "  </tbody>\n",
              "</table>\n",
              "</div>"
            ],
            "text/plain": [
              "      MSSubClass MSZoning  LotFrontage  ...  SaleType SaleCondition SalePrice\n",
              "Id                                      ...                                  \n",
              "1456          60       RL         62.0  ...        WD        Normal    175000\n",
              "1457          20       RL         85.0  ...        WD        Normal    210000\n",
              "1458          70       RL         66.0  ...        WD        Normal    266500\n",
              "1459          20       RL         68.0  ...        WD        Normal    142125\n",
              "1460          20       RL         75.0  ...        WD        Normal    147500\n",
              "\n",
              "[5 rows x 80 columns]"
            ]
          },
          "metadata": {
            "tags": []
          },
          "execution_count": 4
        }
      ]
    },
    {
      "cell_type": "code",
      "metadata": {
        "id": "ld_DRBQV2XaH",
        "colab_type": "code",
        "colab": {
          "base_uri": "https://localhost:8080/",
          "height": 221
        },
        "outputId": "f393d1f0-0759-4d2e-cdb1-ff27ebb9ec46"
      },
      "source": [
        "df['SalePrice'].value_counts()"
      ],
      "execution_count": 5,
      "outputs": [
        {
          "output_type": "execute_result",
          "data": {
            "text/plain": [
              "140000    20\n",
              "135000    17\n",
              "145000    14\n",
              "155000    14\n",
              "190000    13\n",
              "          ..\n",
              "84900      1\n",
              "424870     1\n",
              "415298     1\n",
              "62383      1\n",
              "34900      1\n",
              "Name: SalePrice, Length: 663, dtype: int64"
            ]
          },
          "metadata": {
            "tags": []
          },
          "execution_count": 5
        }
      ]
    },
    {
      "cell_type": "code",
      "metadata": {
        "id": "KVnI6I_KI53W",
        "colab_type": "code",
        "colab": {
          "base_uri": "https://localhost:8080/",
          "height": 391
        },
        "outputId": "ea7c8aab-65a7-48f3-dbb1-d44e5fc29a56"
      },
      "source": [
        "def WhichNans(data):\n",
        "  totalt = data.isnull().sum().sort_values(ascending=False)\n",
        "  percent = (data.isnull().sum()/data.isnull().count()).sort_values(ascending=False)\n",
        "  missing_data = pd.concat([totalt, percent], axis=1, keys=['Total', 'Percent'])\n",
        "  print(missing_data.head(20))\n",
        "  print(data.shape)\n",
        "WhichNans(df)"
      ],
      "execution_count": 6,
      "outputs": [
        {
          "output_type": "stream",
          "text": [
            "              Total   Percent\n",
            "PoolQC         1453  0.995205\n",
            "MiscFeature    1406  0.963014\n",
            "Alley          1369  0.937671\n",
            "Fence          1179  0.807534\n",
            "FireplaceQu     690  0.472603\n",
            "LotFrontage     259  0.177397\n",
            "GarageType       81  0.055479\n",
            "GarageCond       81  0.055479\n",
            "GarageFinish     81  0.055479\n",
            "GarageQual       81  0.055479\n",
            "GarageYrBlt      81  0.055479\n",
            "BsmtFinType2     38  0.026027\n",
            "BsmtExposure     38  0.026027\n",
            "BsmtQual         37  0.025342\n",
            "BsmtCond         37  0.025342\n",
            "BsmtFinType1     37  0.025342\n",
            "MasVnrArea        8  0.005479\n",
            "MasVnrType        8  0.005479\n",
            "Electrical        1  0.000685\n",
            "RoofMatl          0  0.000000\n",
            "(1460, 80)\n"
          ],
          "name": "stdout"
        }
      ]
    },
    {
      "cell_type": "code",
      "metadata": {
        "id": "SsIED-EjQiCg",
        "colab_type": "code",
        "colab": {}
      },
      "source": [
        "def replace(data):\n",
        "  #ExterQual, ExterCond, BsmtQual, BsmtCond, HeatingQC, KitchenQual, FireplaceQu,GarageQual,GarageCond, PoolQC,\n",
        "  data = data.replace(to_replace = ['Ex','Gd','TA','Fa','Po','NA'], value = [5,4,3,2,1,0])\n",
        "  #CentralAir\n",
        "  data = data.replace(to_replace = ['No','Yes'], value = [0,1])\n",
        "  #BsmtExposure\n",
        "  data = data.replace(to_replace = ['Gd','Av','Mn','No','NA'], value = [4,3,2,1,0])\n",
        "  return data\n",
        "df = replace(df)\n",
        "#\n",
        "#def LablFunc(data):\n",
        "#    le = preprocessing.LabelEncoder()\n",
        "#    lst = {'Embarked','Sex'}\n",
        "#    print(lst)\n",
        "#    for i in lst:\n",
        "#        le.fit(data[i].astype(str))\n",
        "#        data[i] = le.transform(data[i].astype(str))\n",
        "#        \n",
        "#LablFunc(df)\n",
        "#print(df.columns)\n"
      ],
      "execution_count": 7,
      "outputs": []
    },
    {
      "cell_type": "code",
      "metadata": {
        "id": "n64AtXSc6mdi",
        "colab_type": "code",
        "colab": {}
      },
      "source": [
        "#GarageCond\tGarageFinish\tGarageQual\n",
        "df.loc[df['GarageCars'] == 0, 'GarageFinish'] = 'NA'\n",
        "df.loc[df['GarageCars'] == 0, 'GarageCond'] = 'NA'\n",
        "df.loc[df['GarageCars'] == 0, 'GarageQual'] = 'NA'\n",
        "df.loc[df['GarageCars'] == 0, 'GarageType'] = 'NA'\n",
        "df.loc[df['GarageCars'] == 0, 'GarageYrBlt'] = 'NA'\n",
        "\n",
        "df.loc[df['GarageCars'].isnull(), 'GarageFinish'] = 'NA'\n",
        "df.loc[df['GarageCars'].isnull(), 'GarageCond'] = 'NA'\n",
        "df.loc[df['GarageCars'].isnull(), 'GarageQual'] = 'NA'\n",
        "df.loc[df['GarageCars'].isnull(), 'GarageArea'] = 'NA'\n",
        "df.loc[df['GarageCars'].isnull(), 'GarageCars'] = 'NA'"
      ],
      "execution_count": 8,
      "outputs": []
    },
    {
      "cell_type": "code",
      "metadata": {
        "id": "kCbC4YaSz7ef",
        "colab_type": "code",
        "colab": {}
      },
      "source": [
        "df.loc[df['BsmtFinSF1'].isnull(),'BsmtFinSF1'] = 'NA'\n",
        "df.loc[df['BsmtFinSF2'].isnull(),'BsmtFinSF2'] = 'NA'\n",
        "df.loc[df['BsmtHalfBath'].isnull(),'BsmtHalfBath'] = 'NA'\n",
        "df.loc[df['BsmtFullBath'].isnull(),'BsmtFullBath'] = 'NA'\n",
        "df.loc[df['TotalBsmtSF'].isnull(),'TotalBsmtSF'] = 'NA'\n",
        "df.loc[df['BsmtUnfSF'].isnull(),'BsmtUnfSF'] = 'NA'\n",
        "df.loc[df['BsmtCond'].isnull(),'BsmtCond'] = 'NA'\n",
        "df.loc[df['BsmtExposure'].isnull(),'BsmtExposure'] = 'NA'\n",
        "df.loc[df['BsmtQual'].isnull(),'BsmtQual'] = 'NA'\n"
      ],
      "execution_count": 9,
      "outputs": []
    },
    {
      "cell_type": "code",
      "metadata": {
        "id": "UKaGJ5r-Bvqx",
        "colab_type": "code",
        "colab": {}
      },
      "source": [
        "df.loc[df['PoolQC'].isnull(), 'PoolQC'] = 'NA'\n",
        "df.loc[df['FireplaceQu'].isnull(), 'FireplaceQu'] = 'NA'\n",
        "\n",
        "#nans a 0\n",
        "df.loc[df['LotFrontage'].isnull(), 'LotFrontage'] = 'NA'\n",
        "df.loc[df['MasVnrArea'].isnull(), 'MasVnrArea'] = 'NA'"
      ],
      "execution_count": 10,
      "outputs": []
    },
    {
      "cell_type": "code",
      "metadata": {
        "id": "kVGmCiyhFkv8",
        "colab_type": "code",
        "colab": {
          "base_uri": "https://localhost:8080/",
          "height": 391
        },
        "outputId": "24ea5612-ebbd-46a9-9ed1-1944d2381af9"
      },
      "source": [
        "df_v = replace(df)\n",
        "WhichNans(df_v)"
      ],
      "execution_count": 11,
      "outputs": [
        {
          "output_type": "stream",
          "text": [
            "              Total   Percent\n",
            "MiscFeature    1406  0.963014\n",
            "Alley          1369  0.937671\n",
            "Fence          1179  0.807534\n",
            "BsmtFinType2     38  0.026027\n",
            "BsmtFinType1     37  0.025342\n",
            "MasVnrType        8  0.005479\n",
            "Electrical        1  0.000685\n",
            "SalePrice         0  0.000000\n",
            "ExterCond         0  0.000000\n",
            "RoofMatl          0  0.000000\n",
            "Exterior1st       0  0.000000\n",
            "Exterior2nd       0  0.000000\n",
            "MasVnrArea        0  0.000000\n",
            "ExterQual         0  0.000000\n",
            "BsmtCond          0  0.000000\n",
            "Foundation        0  0.000000\n",
            "BsmtQual          0  0.000000\n",
            "YearRemodAdd      0  0.000000\n",
            "BsmtExposure      0  0.000000\n",
            "BsmtFinSF1        0  0.000000\n",
            "(1460, 80)\n"
          ],
          "name": "stdout"
        }
      ]
    },
    {
      "cell_type": "markdown",
      "metadata": {
        "id": "_1V7w0oIeR0t",
        "colab_type": "text"
      },
      "source": [
        "Drop NANS columns"
      ]
    },
    {
      "cell_type": "code",
      "metadata": {
        "id": "9we6CFs2TEK9",
        "colab_type": "code",
        "colab": {}
      },
      "source": [
        "df_v = df_v.drop(columns=['MiscFeature','Alley','Fence','BsmtFinType2','BsmtFinType1','MasVnrType','Electrical'])"
      ],
      "execution_count": 12,
      "outputs": []
    },
    {
      "cell_type": "code",
      "metadata": {
        "id": "iPng83QkTZCQ",
        "colab_type": "code",
        "colab": {
          "base_uri": "https://localhost:8080/",
          "height": 391
        },
        "outputId": "e1d425f9-b4fe-4434-e07a-5121566fad9f"
      },
      "source": [
        "WhichNans(df_v)"
      ],
      "execution_count": 13,
      "outputs": [
        {
          "output_type": "stream",
          "text": [
            "              Total  Percent\n",
            "SalePrice         0      0.0\n",
            "HeatingQC         0      0.0\n",
            "RoofStyle         0      0.0\n",
            "RoofMatl          0      0.0\n",
            "Exterior1st       0      0.0\n",
            "Exterior2nd       0      0.0\n",
            "MasVnrArea        0      0.0\n",
            "ExterQual         0      0.0\n",
            "ExterCond         0      0.0\n",
            "Foundation        0      0.0\n",
            "BsmtQual          0      0.0\n",
            "BsmtCond          0      0.0\n",
            "BsmtExposure      0      0.0\n",
            "BsmtFinSF1        0      0.0\n",
            "BsmtFinSF2        0      0.0\n",
            "BsmtUnfSF         0      0.0\n",
            "TotalBsmtSF       0      0.0\n",
            "YearRemodAdd      0      0.0\n",
            "YearBuilt         0      0.0\n",
            "OverallCond       0      0.0\n",
            "(1460, 73)\n"
          ],
          "name": "stdout"
        }
      ]
    },
    {
      "cell_type": "code",
      "metadata": {
        "id": "9Er9XbPlEpue",
        "colab_type": "code",
        "colab": {
          "base_uri": "https://localhost:8080/",
          "height": 136
        },
        "outputId": "e31f76df-4164-4892-cb4e-50b1d909dc58"
      },
      "source": [
        "df_v.select_dtypes(include=object).columns"
      ],
      "execution_count": 14,
      "outputs": [
        {
          "output_type": "execute_result",
          "data": {
            "text/plain": [
              "Index(['MSZoning', 'Street', 'LotShape', 'LandContour', 'Utilities',\n",
              "       'LotConfig', 'LandSlope', 'Neighborhood', 'Condition1', 'Condition2',\n",
              "       'BldgType', 'HouseStyle', 'RoofStyle', 'RoofMatl', 'Exterior1st',\n",
              "       'Exterior2nd', 'Foundation', 'Heating', 'CentralAir', 'Functional',\n",
              "       'GarageType', 'GarageFinish', 'PavedDrive', 'SaleType',\n",
              "       'SaleCondition'],\n",
              "      dtype='object')"
            ]
          },
          "metadata": {
            "tags": []
          },
          "execution_count": 14
        }
      ]
    },
    {
      "cell_type": "code",
      "metadata": {
        "id": "iKoV1kTcamX0",
        "colab_type": "code",
        "colab": {}
      },
      "source": [
        "le = preprocessing.LabelEncoder()\n",
        "le.fit(df_v['MSZoning'].astype(str))  \n",
        "df_v['MSZoning'] = le.transform(df_v['MSZoning'].astype(str))\n",
        "\n",
        "le.fit(df_v['Street'].astype(str))  \n",
        "df_v['Street'] = le.transform(df_v['Street'].astype(str))\n",
        "\n",
        "le.fit(df_v['LotShape'].astype(str))  \n",
        "df_v['LotShape'] = le.transform(df_v['LotShape'].astype(str))\n",
        "\n",
        "le.fit(df_v['LandContour'].astype(str))  \n",
        "df_v['LandContour'] = le.transform(df_v['LandContour'].astype(str))\n",
        "\n",
        "le.fit(df_v['Utilities'].astype(str))  \n",
        "df_v['Utilities'] = le.transform(df_v['Utilities'].astype(str))\n",
        "\n",
        "le.fit(df_v['LotConfig'].astype(str))  \n",
        "df_v['LotConfig'] = le.transform(df_v['LotConfig'].astype(str))\n",
        "\n",
        "le.fit(df_v['LandSlope'].astype(str))  \n",
        "df_v['LandSlope'] = le.transform(df_v['LandSlope'].astype(str))\n",
        "\n",
        "le.fit(df_v['Neighborhood'].astype(str))  \n",
        "df_v['Neighborhood'] = le.transform(df_v['Neighborhood'].astype(str))\n",
        "\n",
        "le.fit(df_v['Condition1'].astype(str))  \n",
        "df_v['Condition1'] = le.transform(df_v['Condition1'].astype(str))\n",
        "\n",
        "le.fit(df_v['Condition2'].astype(str))  \n",
        "df_v['Condition2'] = le.transform(df_v['Condition2'].astype(str))\n",
        "\n",
        "le.fit(df_v['BldgType'].astype(str))  \n",
        "df_v['BldgType'] = le.transform(df_v['BldgType'].astype(str))\n",
        "\n",
        "le.fit(df_v['HouseStyle'].astype(str))  \n",
        "df_v['HouseStyle'] = le.transform(df_v['HouseStyle'].astype(str))\n",
        "\n",
        "le.fit(df_v['RoofStyle'].astype(str))  \n",
        "df_v['RoofStyle'] = le.transform(df_v['RoofStyle'].astype(str))\n",
        "\n",
        "le.fit(df_v['RoofMatl'].astype(str))  \n",
        "df_v['RoofMatl'] = le.transform(df_v['RoofMatl'].astype(str))\n",
        "\n",
        "le.fit(df_v['Exterior1st'].astype(str))  \n",
        "df_v['Exterior1st'] = le.transform(df_v['Exterior1st'].astype(str))\n",
        "\n",
        "le.fit(df_v['Exterior2nd'].astype(str))  \n",
        "df_v['Exterior2nd'] = le.transform(df_v['Exterior2nd'].astype(str))\n",
        "\n",
        "le.fit(df_v['Foundation'].astype(str))  \n",
        "df_v['Foundation'] = le.transform(df_v['Foundation'].astype(str))\n",
        "\n",
        "le.fit(df_v['Heating'].astype(str))  \n",
        "df_v['Heating'] = le.transform(df_v['Heating'].astype(str))\n",
        "\n",
        "le.fit(df_v['CentralAir'].astype(str))  \n",
        "df_v['CentralAir'] = le.transform(df_v['CentralAir'].astype(str))\n",
        "\n",
        "le.fit(df_v['Functional'].astype(str))  \n",
        "df_v['Functional'] = le.transform(df_v['Functional'].astype(str))\n",
        "\n",
        "le.fit(df_v['GarageType'].astype(str))  \n",
        "df_v['GarageType'] = le.transform(df_v['GarageType'].astype(str))\n",
        "\n",
        "le.fit(df_v['GarageFinish'].astype(str))  \n",
        "df_v['GarageFinish'] = le.transform(df_v['GarageFinish'].astype(str))\n",
        "\n",
        "le.fit(df_v['PavedDrive'].astype(str))  \n",
        "df_v['PavedDrive'] = le.transform(df_v['PavedDrive'].astype(str))\n",
        "\n",
        "le.fit(df_v['SaleType'].astype(str))  \n",
        "df_v['SaleType'] = le.transform(df_v['SaleType'].astype(str))\n",
        "\n",
        "le.fit(df_v['SaleCondition'].astype(str))  \n",
        "df_v['SaleCondition'] = le.transform(df_v['SaleCondition'].astype(str))"
      ],
      "execution_count": 15,
      "outputs": []
    },
    {
      "cell_type": "code",
      "metadata": {
        "id": "JDJixeSiLq8C",
        "colab_type": "code",
        "colab": {
          "base_uri": "https://localhost:8080/",
          "height": 289
        },
        "outputId": "2b591443-04d7-4cbf-e2e3-d6742fbaab7f"
      },
      "source": [
        "df_v.select_dtypes(include='number').columns"
      ],
      "execution_count": 16,
      "outputs": [
        {
          "output_type": "execute_result",
          "data": {
            "text/plain": [
              "Index(['MSSubClass', 'MSZoning', 'LotFrontage', 'LotArea', 'Street',\n",
              "       'LotShape', 'LandContour', 'Utilities', 'LotConfig', 'LandSlope',\n",
              "       'Neighborhood', 'Condition1', 'Condition2', 'BldgType', 'HouseStyle',\n",
              "       'OverallQual', 'OverallCond', 'YearBuilt', 'YearRemodAdd', 'RoofStyle',\n",
              "       'RoofMatl', 'Exterior1st', 'Exterior2nd', 'MasVnrArea', 'ExterQual',\n",
              "       'ExterCond', 'Foundation', 'BsmtQual', 'BsmtCond', 'BsmtExposure',\n",
              "       'BsmtFinSF1', 'BsmtFinSF2', 'BsmtUnfSF', 'TotalBsmtSF', 'Heating',\n",
              "       'HeatingQC', 'CentralAir', '1stFlrSF', '2ndFlrSF', 'LowQualFinSF',\n",
              "       'GrLivArea', 'BsmtFullBath', 'BsmtHalfBath', 'FullBath', 'HalfBath',\n",
              "       'BedroomAbvGr', 'KitchenAbvGr', 'KitchenQual', 'TotRmsAbvGrd',\n",
              "       'Functional', 'Fireplaces', 'FireplaceQu', 'GarageType', 'GarageYrBlt',\n",
              "       'GarageFinish', 'GarageCars', 'GarageArea', 'GarageQual', 'GarageCond',\n",
              "       'PavedDrive', 'WoodDeckSF', 'OpenPorchSF', 'EnclosedPorch', '3SsnPorch',\n",
              "       'ScreenPorch', 'PoolArea', 'PoolQC', 'MiscVal', 'MoSold', 'YrSold',\n",
              "       'SaleType', 'SaleCondition', 'SalePrice'],\n",
              "      dtype='object')"
            ]
          },
          "metadata": {
            "tags": []
          },
          "execution_count": 16
        }
      ]
    },
    {
      "cell_type": "code",
      "metadata": {
        "id": "KkDdVWjvQJgF",
        "colab_type": "code",
        "colab": {}
      },
      "source": [
        "class MultiColumnLabelEncoder:\n",
        "    def __init__(self,columns = None):\n",
        "        self.columns = columns # array of column names to encode\n",
        "\n",
        "    def fit(self,X,y=None):\n",
        "        return self # not relevant here\n",
        "\n",
        "    def transform(self,X):\n",
        "        '''\n",
        "        Transforms columns of X specified in self.columns using\n",
        "        LabelEncoder(). If no columns specified, transforms all\n",
        "        columns in X.\n",
        "        '''\n",
        "        output = X.copy()\n",
        "        if self.columns is not None:\n",
        "            for col in self.columns:\n",
        "                output[col] = LabelEncoder().fit_transform(output[col])\n",
        "        else:\n",
        "            for colname,col in output.iteritems():\n",
        "                output[colname] = LabelEncoder().fit_transform(col)\n",
        "        return output\n",
        "\n",
        "    def fit_transform(self,X,y=None):\n",
        "        return self.fit(X,y).transform(X)"
      ],
      "execution_count": 17,
      "outputs": []
    },
    {
      "cell_type": "code",
      "metadata": {
        "id": "NJAm9CPAQQPo",
        "colab_type": "code",
        "colab": {}
      },
      "source": [
        "#MultiColumnLabelEncoder(columns = df_v.select_dtypes(include='number').columns).fit_transform(df_v)"
      ],
      "execution_count": 18,
      "outputs": []
    },
    {
      "cell_type": "code",
      "metadata": {
        "id": "AvvrRJNoWmSo",
        "colab_type": "code",
        "colab": {}
      },
      "source": [
        "#MultiColumnLabelEncoder(columns = ['BldgType', 'CentralAir', 'Condition1', 'Condition2', 'Exterior1st', 'Exterior2nd', 'Foundation', 'Functional', 'GarageFinish', 'GarageType', 'Heating', 'HouseStyle', 'Id', 'LandContour', 'LandSlope', 'LotConfig', 'LotShape', 'MSZoning', 'Neighborhood', 'PavedDrive', 'RoofMatl', 'RoofStyle', 'SaleCondition', 'SaleType', 'Street', 'Utilities']).fit_transform(df_v)"
      ],
      "execution_count": 19,
      "outputs": []
    },
    {
      "cell_type": "code",
      "metadata": {
        "id": "BK7QlJweE3wi",
        "colab_type": "code",
        "colab": {}
      },
      "source": [
        "#from sklearn.compose import make_column_selector\n",
        "#from sklearn.preprocessing import RobustScaler\n",
        "#from sklearn.preprocessing import OneHotEncoder\n",
        "\n",
        "#categorical_columns = ['MSZoning', 'Street', 'Alley', 'LotShape', 'LandContour', 'Utilities',\n",
        "#       'LotConfig', 'LandSlope', 'Neighborhood', 'Condition1', 'Condition2',\n",
        "#       'BldgType', 'HouseStyle', 'RoofStyle', 'RoofMatl', 'Exterior1st',\n",
        "#       'Exterior2nd', 'MasVnrType', 'Foundation', 'BsmtFinType1',\n",
        "#       'BsmtFinType2', 'Heating', 'CentralAir', 'Electrical', 'Functional',\n",
        "#       'GarageType', 'GarageFinish', 'PavedDrive', 'Fence', 'MiscFeature',\n",
        "#       'SaleType', 'SaleCondition']\n",
        "#numerical_columns = ['MSSubClass', 'LotFrontage', 'LotArea', 'OverallQual',\n",
        "#       'OverallCond', 'YearBuilt', 'YearRemodAdd', 'MasVnrArea', 'ExterQual',\n",
        "#       'ExterCond', 'BsmtQual', 'BsmtCond', 'BsmtExposure', 'BsmtFinSF1',\n",
        "#       'BsmtFinSF2', 'BsmtUnfSF', 'TotalBsmtSF', 'HeatingQC', '1stFlrSF',\n",
        "#       '2ndFlrSF', 'LowQualFinSF', 'GrLivArea', 'BsmtFullBath', 'BsmtHalfBath',\n",
        "#       'FullBath', 'HalfBath', 'BedroomAbvGr', 'KitchenAbvGr', 'KitchenQual',\n",
        "#       'TotRmsAbvGrd', 'Fireplaces', 'FireplaceQu', 'GarageYrBlt',\n",
        "#       'GarageCars', 'GarageArea', 'GarageQual', 'GarageCond', 'WoodDeckSF',\n",
        "#       'OpenPorchSF', 'EnclosedPorch', '3SsnPorch', 'ScreenPorch', 'PoolArea',\n",
        "#       'PoolQC', 'MiscVal', 'MoSold', 'YrSold']\n",
        "#column_trans = make_column_selector(\n",
        "#    (categorical_columns, OneHotEncoder(handle_unknown='ignore'),\n",
        "#    (numerical_columns, RobustScaler())\n",
        "#column_trans.fit_transform(df_v)"
      ],
      "execution_count": 20,
      "outputs": []
    },
    {
      "cell_type": "markdown",
      "metadata": {
        "id": "YZAtGBoX35kz",
        "colab_type": "text"
      },
      "source": [
        "## Only Numbers"
      ]
    },
    {
      "cell_type": "code",
      "metadata": {
        "id": "MVWO7-Bxc_-g",
        "colab_type": "code",
        "colab": {
          "base_uri": "https://localhost:8080/",
          "height": 391
        },
        "outputId": "f77a8178-c00c-4bec-c00f-a5beed323829"
      },
      "source": [
        "data = df_v.select_dtypes(include= 'number')\n",
        "WhichNans(data)"
      ],
      "execution_count": 21,
      "outputs": [
        {
          "output_type": "stream",
          "text": [
            "              Total  Percent\n",
            "SalePrice         0      0.0\n",
            "HeatingQC         0      0.0\n",
            "RoofStyle         0      0.0\n",
            "RoofMatl          0      0.0\n",
            "Exterior1st       0      0.0\n",
            "Exterior2nd       0      0.0\n",
            "MasVnrArea        0      0.0\n",
            "ExterQual         0      0.0\n",
            "ExterCond         0      0.0\n",
            "Foundation        0      0.0\n",
            "BsmtQual          0      0.0\n",
            "BsmtCond          0      0.0\n",
            "BsmtExposure      0      0.0\n",
            "BsmtFinSF1        0      0.0\n",
            "BsmtFinSF2        0      0.0\n",
            "BsmtUnfSF         0      0.0\n",
            "TotalBsmtSF       0      0.0\n",
            "YearRemodAdd      0      0.0\n",
            "YearBuilt         0      0.0\n",
            "OverallCond       0      0.0\n",
            "(1460, 73)\n"
          ],
          "name": "stdout"
        }
      ]
    },
    {
      "cell_type": "markdown",
      "metadata": {
        "id": "VbsuA-Nfp_9j",
        "colab_type": "text"
      },
      "source": [
        "## Algoritmo de Machine Learning"
      ]
    },
    {
      "cell_type": "markdown",
      "metadata": {
        "id": "yFLSun2g7VhQ",
        "colab_type": "text"
      },
      "source": [
        "### Pruebas con Clasificador"
      ]
    },
    {
      "cell_type": "code",
      "metadata": {
        "id": "vttwzf5nvhZu",
        "colab_type": "code",
        "colab": {}
      },
      "source": [
        "target = data['SalePrice'].values\n",
        "data = data.drop(['SalePrice'],axis=1)\n",
        "x_train, x_test, y_train, y_test = train_test_split(data, target, test_size=0.25, random_state=42)"
      ],
      "execution_count": 23,
      "outputs": []
    },
    {
      "cell_type": "markdown",
      "metadata": {
        "id": "RYuJoib7qq8T",
        "colab_type": "text"
      },
      "source": [
        "####RandomForest"
      ]
    },
    {
      "cell_type": "code",
      "metadata": {
        "id": "nBjzAJqJjtN8",
        "colab_type": "code",
        "colab": {
          "base_uri": "https://localhost:8080/",
          "height": 51
        },
        "outputId": "c88d29eb-e824-4b5b-8cdb-5178050c5837"
      },
      "source": [
        "#{'max_depth': 8, 'min_samples_split': 2, 'n_estimators': 500, 'n_jobs': -1, 'random_state': 20}\n",
        "#{'max_depth': 6, 'min_samples_split': 8, 'n_estimators': 500, 'n_jobs': -1, 'random_state': 20}\n",
        "RFC = RandomForestClassifier(max_depth = 8, min_samples_split = 2, n_estimators = 500,random_state = 20) #max 5 niveles de arbol, 4 splits, siempre empieze en el mismo\n",
        "RFC.fit(x_train, y_train) \n",
        "train_prediction = RFC.predict(x_train)\n",
        "print(\"La accuracy de este train es {}.\".format(accuracy_score(y_train,train_prediction)))\n",
        "#print(classification_report(y_train, train_prediction))\n",
        "\n",
        "test_prediction = RFC.predict(x_test)\n",
        "print(\"La accuracy de este test es {}.\".format(accuracy_score(y_test,test_prediction)))\n",
        "#print(classification_report(y_test, test_prediction))"
      ],
      "execution_count": null,
      "outputs": [
        {
          "output_type": "stream",
          "text": [
            "La accuracy de este train es 0.8356164383561644.\n",
            "La accuracy de este test es 0.00821917808219178.\n"
          ],
          "name": "stdout"
        }
      ]
    },
    {
      "cell_type": "markdown",
      "metadata": {
        "id": "KqcgGKs-sNAM",
        "colab_type": "text"
      },
      "source": [
        "####AutoML"
      ]
    },
    {
      "cell_type": "code",
      "metadata": {
        "id": "SLTRG1b1dfK2",
        "colab_type": "code",
        "colab": {
          "base_uri": "https://localhost:8080/",
          "height": 1000
        },
        "outputId": "9b7000e6-30e6-444f-b98f-355197eedcdb"
      },
      "source": [
        "!apt-get install swig -y\n",
        "!pip install Cython numpy\n",
        "!pip install auto-sklearn"
      ],
      "execution_count": null,
      "outputs": [
        {
          "output_type": "stream",
          "text": [
            "Reading package lists... Done\n",
            "Building dependency tree       \n",
            "Reading state information... Done\n",
            "The following package was automatically installed and is no longer required:\n",
            "  libnvidia-common-440\n",
            "Use 'apt autoremove' to remove it.\n",
            "The following additional packages will be installed:\n",
            "  swig3.0\n",
            "Suggested packages:\n",
            "  swig-doc swig-examples swig3.0-examples swig3.0-doc\n",
            "The following NEW packages will be installed:\n",
            "  swig swig3.0\n",
            "0 upgraded, 2 newly installed, 0 to remove and 35 not upgraded.\n",
            "Need to get 1,100 kB of archives.\n",
            "After this operation, 5,822 kB of additional disk space will be used.\n",
            "Get:1 http://archive.ubuntu.com/ubuntu bionic/universe amd64 swig3.0 amd64 3.0.12-1 [1,094 kB]\n",
            "Get:2 http://archive.ubuntu.com/ubuntu bionic/universe amd64 swig amd64 3.0.12-1 [6,460 B]\n",
            "Fetched 1,100 kB in 1s (1,303 kB/s)\n",
            "Selecting previously unselected package swig3.0.\n",
            "(Reading database ... 144465 files and directories currently installed.)\n",
            "Preparing to unpack .../swig3.0_3.0.12-1_amd64.deb ...\n",
            "Unpacking swig3.0 (3.0.12-1) ...\n",
            "Selecting previously unselected package swig.\n",
            "Preparing to unpack .../swig_3.0.12-1_amd64.deb ...\n",
            "Unpacking swig (3.0.12-1) ...\n",
            "Setting up swig3.0 (3.0.12-1) ...\n",
            "Setting up swig (3.0.12-1) ...\n",
            "Processing triggers for man-db (2.8.3-2ubuntu0.1) ...\n",
            "Requirement already satisfied: Cython in /usr/local/lib/python3.6/dist-packages (0.29.20)\n",
            "Requirement already satisfied: numpy in /usr/local/lib/python3.6/dist-packages (1.18.5)\n",
            "Collecting auto-sklearn\n",
            "\u001b[?25l  Downloading https://files.pythonhosted.org/packages/3d/dd/590237d488627a7856fc51d67d2bd801601deecfbb500d6daaf66f641462/auto-sklearn-0.8.0.tar.gz (4.6MB)\n",
            "\u001b[K     |████████████████████████████████| 4.6MB 2.7MB/s \n",
            "\u001b[?25hRequirement already satisfied: setuptools in /usr/local/lib/python3.6/dist-packages (from auto-sklearn) (49.1.0)\n",
            "Collecting pytest>=4.6\n",
            "\u001b[?25l  Downloading https://files.pythonhosted.org/packages/9f/f3/0a83558da436a081344aa6c8b85ea5b5f05071214106036ce341b7769b0b/pytest-5.4.3-py3-none-any.whl (248kB)\n",
            "\u001b[K     |████████████████████████████████| 256kB 43.2MB/s \n",
            "\u001b[?25hRequirement already satisfied: Cython in /usr/local/lib/python3.6/dist-packages (from auto-sklearn) (0.29.20)\n",
            "Requirement already satisfied: numpy>=1.9.0 in /usr/local/lib/python3.6/dist-packages (from auto-sklearn) (1.18.5)\n",
            "Requirement already satisfied: scipy>=0.14.1 in /usr/local/lib/python3.6/dist-packages (from auto-sklearn) (1.4.1)\n",
            "Requirement already satisfied: scikit-learn<0.23,>=0.22.0 in /usr/local/lib/python3.6/dist-packages (from auto-sklearn) (0.22.2.post1)\n",
            "Collecting lockfile\n",
            "  Downloading https://files.pythonhosted.org/packages/c8/22/9460e311f340cb62d26a38c419b1381b8593b0bb6b5d1f056938b086d362/lockfile-0.12.2-py2.py3-none-any.whl\n",
            "Requirement already satisfied: joblib in /usr/local/lib/python3.6/dist-packages (from auto-sklearn) (0.16.0)\n",
            "Requirement already satisfied: psutil in /usr/local/lib/python3.6/dist-packages (from auto-sklearn) (5.4.8)\n",
            "Requirement already satisfied: pyyaml in /usr/local/lib/python3.6/dist-packages (from auto-sklearn) (3.13)\n",
            "Collecting liac-arff\n",
            "  Downloading https://files.pythonhosted.org/packages/e9/35/fbc9217cfa91d98888b43e1a19c03a50d716108c58494c558c65e308f372/liac-arff-2.4.0.tar.gz\n",
            "Collecting pandas<1.0\n",
            "\u001b[?25l  Downloading https://files.pythonhosted.org/packages/52/3f/f6a428599e0d4497e1595030965b5ba455fd8ade6e977e3c819973c4b41d/pandas-0.25.3-cp36-cp36m-manylinux1_x86_64.whl (10.4MB)\n",
            "\u001b[K     |████████████████████████████████| 10.4MB 37.9MB/s \n",
            "\u001b[?25hCollecting ConfigSpace<0.5,>=0.4.0\n",
            "\u001b[?25l  Downloading https://files.pythonhosted.org/packages/73/66/c9de12ba36e7ea396684101fdba05fc22fec8c312693f0398aef96b06298/ConfigSpace-0.4.13.tar.gz (964kB)\n",
            "\u001b[K     |████████████████████████████████| 972kB 40.6MB/s \n",
            "\u001b[?25hCollecting pynisher>=0.4.2\n",
            "  Downloading https://files.pythonhosted.org/packages/b2/21/c86c64c305da6d43fb89780d33cbc839c07736b71955a8bdb642a02b7538/pynisher-0.5.0.tar.gz\n",
            "Collecting pyrfr<0.9,>=0.7\n",
            "\u001b[?25l  Downloading https://files.pythonhosted.org/packages/ed/0f/4d7e42a9dfef3a1898e03cffa8f1cfcd1f96507d718808b2db584c6f8401/pyrfr-0.8.0.tar.gz (293kB)\n",
            "\u001b[K     |████████████████████████████████| 296kB 38.8MB/s \n",
            "\u001b[?25hCollecting smac>=0.12\n",
            "\u001b[?25l  Downloading https://files.pythonhosted.org/packages/8d/31/eb9806705d01c3211b729dd58117f6ab5337558e7f6dbff54bd93a42c3c3/smac-0.12.2.tar.gz (214kB)\n",
            "\u001b[K     |████████████████████████████████| 215kB 40.0MB/s \n",
            "\u001b[?25hCollecting pluggy<1.0,>=0.12\n",
            "  Downloading https://files.pythonhosted.org/packages/a0/28/85c7aa31b80d150b772fbe4a229487bc6644da9ccb7e427dd8cc60cb8a62/pluggy-0.13.1-py2.py3-none-any.whl\n",
            "Requirement already satisfied: more-itertools>=4.0.0 in /usr/local/lib/python3.6/dist-packages (from pytest>=4.6->auto-sklearn) (8.4.0)\n",
            "Requirement already satisfied: packaging in /usr/local/lib/python3.6/dist-packages (from pytest>=4.6->auto-sklearn) (20.4)\n",
            "Requirement already satisfied: py>=1.5.0 in /usr/local/lib/python3.6/dist-packages (from pytest>=4.6->auto-sklearn) (1.9.0)\n",
            "Requirement already satisfied: attrs>=17.4.0 in /usr/local/lib/python3.6/dist-packages (from pytest>=4.6->auto-sklearn) (19.3.0)\n",
            "Requirement already satisfied: importlib-metadata>=0.12; python_version < \"3.8\" in /usr/local/lib/python3.6/dist-packages (from pytest>=4.6->auto-sklearn) (1.7.0)\n",
            "Requirement already satisfied: wcwidth in /usr/local/lib/python3.6/dist-packages (from pytest>=4.6->auto-sklearn) (0.2.5)\n",
            "Requirement already satisfied: pytz>=2017.2 in /usr/local/lib/python3.6/dist-packages (from pandas<1.0->auto-sklearn) (2018.9)\n",
            "Requirement already satisfied: python-dateutil>=2.6.1 in /usr/local/lib/python3.6/dist-packages (from pandas<1.0->auto-sklearn) (2.8.1)\n",
            "Requirement already satisfied: pyparsing in /usr/local/lib/python3.6/dist-packages (from ConfigSpace<0.5,>=0.4.0->auto-sklearn) (2.4.7)\n",
            "Requirement already satisfied: docutils>=0.3 in /usr/local/lib/python3.6/dist-packages (from pynisher>=0.4.2->auto-sklearn) (0.15.2)\n",
            "Collecting sobol_seq\n",
            "  Downloading https://files.pythonhosted.org/packages/e4/df/6c4ad25c0b48545a537b631030f7de7e4abb939e6d2964ac2169d4379c85/sobol_seq-0.2.0-py3-none-any.whl\n",
            "Collecting lazy_import\n",
            "  Downloading https://files.pythonhosted.org/packages/44/2e/5378f9b9cbc893826c2ecb022646c97ece9efbaad351adf89425fff33990/lazy_import-0.2.2.tar.gz\n",
            "Requirement already satisfied: six in /usr/local/lib/python3.6/dist-packages (from packaging->pytest>=4.6->auto-sklearn) (1.12.0)\n",
            "Requirement already satisfied: zipp>=0.5 in /usr/local/lib/python3.6/dist-packages (from importlib-metadata>=0.12; python_version < \"3.8\"->pytest>=4.6->auto-sklearn) (3.1.0)\n",
            "Building wheels for collected packages: auto-sklearn, liac-arff, ConfigSpace, pynisher, pyrfr, smac, lazy-import\n",
            "  Building wheel for auto-sklearn (setup.py) ... \u001b[?25l\u001b[?25hdone\n",
            "  Created wheel for auto-sklearn: filename=auto_sklearn-0.8.0-cp36-none-any.whl size=4842901 sha256=e834c5085136049ebdb730d673e4ce9c2c5e680f6d3bbde950d0aa21bd16003d\n",
            "  Stored in directory: /root/.cache/pip/wheels/12/53/3a/288c5bab272d38177e5188e59525363bfeeb8fc6f1784ddb2e\n",
            "  Building wheel for liac-arff (setup.py) ... \u001b[?25l\u001b[?25hdone\n",
            "  Created wheel for liac-arff: filename=liac_arff-2.4.0-cp36-none-any.whl size=13335 sha256=b4d5d2f41cd6ffea674d428777382a19b1af4f285eec1f3e5c8d3aed87a6a83c\n",
            "  Stored in directory: /root/.cache/pip/wheels/d1/6a/e7/529dc54d76ecede4346164a09ae3168df358945612710f5203\n",
            "  Building wheel for ConfigSpace (setup.py) ... \u001b[?25l\u001b[?25hdone\n",
            "  Created wheel for ConfigSpace: filename=ConfigSpace-0.4.13-cp36-cp36m-linux_x86_64.whl size=2914704 sha256=98f867ef5f758d35e4014152ee97d0b071926014909bf3e4b0e1343bf13053ac\n",
            "  Stored in directory: /root/.cache/pip/wheels/9e/13/67/89f852e4a5cf173e6c7da5e9d449b8e98483bc8168cf7b6e6d\n",
            "  Building wheel for pynisher (setup.py) ... \u001b[?25l\u001b[?25hdone\n",
            "  Created wheel for pynisher: filename=pynisher-0.5.0-cp36-none-any.whl size=4360 sha256=3cba26d34a92dc5fe9c15a5c3ed2c59de62adf7f83a45718840906a7b04282c5\n",
            "  Stored in directory: /root/.cache/pip/wheels/af/2a/c4/ec3abc8a2f786ef9786ea8fe6ff629a4e54812a3f98cc41b47\n",
            "  Building wheel for pyrfr (setup.py) ... \u001b[?25l\u001b[?25hdone\n",
            "  Created wheel for pyrfr: filename=pyrfr-0.8.0-cp36-cp36m-linux_x86_64.whl size=2540825 sha256=053347ad0bb8943d6512e07351e0487cd7764ac17abefd938ed7ffa4279023ad\n",
            "  Stored in directory: /root/.cache/pip/wheels/61/1a/d2/b5aee388a492a01946143d3c976b2ca810af537480e1f16999\n",
            "  Building wheel for smac (setup.py) ... \u001b[?25l\u001b[?25hdone\n",
            "  Created wheel for smac: filename=smac-0.12.2-cp36-none-any.whl size=216083 sha256=3d47059abed54894024899842855ee3f559b72507e7ecf34d7101e7ad60f8c31\n",
            "  Stored in directory: /root/.cache/pip/wheels/37/36/99/2dbeb54a336b7c78f2bb3c1b418086795b7fbe2c4be8da2d9a\n",
            "  Building wheel for lazy-import (setup.py) ... \u001b[?25l\u001b[?25hdone\n",
            "  Created wheel for lazy-import: filename=lazy_import-0.2.2-py2.py3-none-any.whl size=16485 sha256=9b6c84f7fc99184d5071c414e8b19d13a6f750865de5c55b56dc0b27c41523ec\n",
            "  Stored in directory: /root/.cache/pip/wheels/a9/b0/b5/8c7e6810aee14bc4ed4a542ce56e744126263bf4f4825a9094\n",
            "Successfully built auto-sklearn liac-arff ConfigSpace pynisher pyrfr smac lazy-import\n",
            "\u001b[31mERROR: google-colab 1.0.0 has requirement pandas~=1.0.0; python_version >= \"3.0\", but you'll have pandas 0.25.3 which is incompatible.\u001b[0m\n",
            "\u001b[31mERROR: datascience 0.10.6 has requirement folium==0.2.1, but you'll have folium 0.8.3 which is incompatible.\u001b[0m\n",
            "Installing collected packages: pluggy, pytest, lockfile, liac-arff, pandas, ConfigSpace, pynisher, pyrfr, sobol-seq, lazy-import, smac, auto-sklearn\n",
            "  Found existing installation: pluggy 0.7.1\n",
            "    Uninstalling pluggy-0.7.1:\n",
            "      Successfully uninstalled pluggy-0.7.1\n",
            "  Found existing installation: pytest 3.6.4\n",
            "    Uninstalling pytest-3.6.4:\n",
            "      Successfully uninstalled pytest-3.6.4\n",
            "  Found existing installation: pandas 1.0.5\n",
            "    Uninstalling pandas-1.0.5:\n",
            "      Successfully uninstalled pandas-1.0.5\n",
            "Successfully installed ConfigSpace-0.4.13 auto-sklearn-0.8.0 lazy-import-0.2.2 liac-arff-2.4.0 lockfile-0.12.2 pandas-0.25.3 pluggy-0.13.1 pynisher-0.5.0 pyrfr-0.8.0 pytest-5.4.3 smac-0.12.2 sobol-seq-0.2.0\n"
          ],
          "name": "stdout"
        },
        {
          "output_type": "display_data",
          "data": {
            "application/vnd.colab-display-data+json": {
              "pip_warning": {
                "packages": [
                  "pandas"
                ]
              }
            }
          },
          "metadata": {
            "tags": []
          }
        }
      ]
    },
    {
      "cell_type": "code",
      "metadata": {
        "id": "fn87tw648mEy",
        "colab_type": "code",
        "colab": {}
      },
      "source": [
        "import autosklearn.classification\n",
        "import sklearn.model_selection\n",
        "import sklearn.datasets\n",
        "import sklearn.metrics"
      ],
      "execution_count": null,
      "outputs": []
    },
    {
      "cell_type": "code",
      "metadata": {
        "id": "AeHTdyYmz7ny",
        "colab_type": "code",
        "colab": {
          "base_uri": "https://localhost:8080/",
          "height": 124
        },
        "outputId": "cb125c5f-d1d7-4877-898a-b4845d6590c4"
      },
      "source": [
        "import autosklearn.classification\n",
        "automl = autosklearn.classification.AutoSklearnClassifier(\n",
        "          time_left_for_this_task=1200, \n",
        "          per_run_time_limit=300,\n",
        "          )\n",
        "\n",
        "# train model(s)\n",
        "automl.fit(x_train, y_train)\n",
        "\n",
        "# evaluate\n",
        "y_hat = automl.predict(x_test)\n",
        "test_acc = sklearn.metrics.accuracy_score(y_test, y_hat)"
      ],
      "execution_count": null,
      "outputs": [
        {
          "output_type": "stream",
          "text": [
            "[WARNING] [2020-07-12 11:25:02,699:EnsembleBuilder(1):29fbeae3048f23904fd3fe8ca11f2781] Memory Exception -- restart with less ensemble_nbest: 25\n",
            "[WARNING] [2020-07-12 11:25:02,753:EnsembleBuilder(1):29fbeae3048f23904fd3fe8ca11f2781] Memory Exception -- restart with less ensemble_nbest: 12\n",
            "[WARNING] [2020-07-12 11:25:02,806:EnsembleBuilder(1):29fbeae3048f23904fd3fe8ca11f2781] Memory Exception -- restart with less ensemble_nbest: 6\n",
            "[WARNING] [2020-07-12 11:25:02,862:EnsembleBuilder(1):29fbeae3048f23904fd3fe8ca11f2781] Memory Exception -- restart with less ensemble_nbest: 3\n",
            "[WARNING] [2020-07-12 11:25:02,913:EnsembleBuilder(1):29fbeae3048f23904fd3fe8ca11f2781] Memory Exception -- restart with less ensemble_nbest: 1\n"
          ],
          "name": "stdout"
        }
      ]
    },
    {
      "cell_type": "code",
      "metadata": {
        "id": "oAijRdBB0HpU",
        "colab_type": "code",
        "colab": {
          "base_uri": "https://localhost:8080/",
          "height": 523
        },
        "outputId": "87e16b20-2a75-4f11-956b-2fedc47d1b54"
      },
      "source": [
        "print(\"Test Accuracy score {0}\".format(test_acc))\n",
        "print(automl.sprint_statistics())\n",
        "print(automl.show_models())"
      ],
      "execution_count": null,
      "outputs": [
        {
          "output_type": "stream",
          "text": [
            "Test Accuracy score 0.0027397260273972603\n",
            "auto-sklearn results:\n",
            "  Dataset name: 29fbeae3048f23904fd3fe8ca11f2781\n",
            "  Metric: accuracy\n",
            "  Best validation score: 0.024862\n",
            "  Number of target algorithm runs: 19\n",
            "  Number of successful target algorithm runs: 12\n",
            "  Number of crashed target algorithm runs: 1\n",
            "  Number of target algorithms that exceeded the time limit: 3\n",
            "  Number of target algorithms that exceeded the memory limit: 3\n",
            "\n",
            "[(0.540000, SimpleClassificationPipeline({'balancing:strategy': 'none', 'classifier:__choice__': 'lda', 'data_preprocessing:categorical_transformer:categorical_encoding:__choice__': 'no_encoding', 'data_preprocessing:categorical_transformer:category_coalescence:__choice__': 'minority_coalescer', 'data_preprocessing:numerical_transformer:imputation:strategy': 'median', 'data_preprocessing:numerical_transformer:rescaling:__choice__': 'quantile_transformer', 'feature_preprocessor:__choice__': 'nystroem_sampler', 'classifier:lda:n_components': 61, 'classifier:lda:shrinkage': 'auto', 'classifier:lda:tol': 0.0013936557152472336, 'data_preprocessing:categorical_transformer:category_coalescence:minority_coalescer:minimum_fraction': 0.11975636073546837, 'data_preprocessing:numerical_transformer:rescaling:quantile_transformer:n_quantiles': 1211, 'data_preprocessing:numerical_transformer:rescaling:quantile_transformer:output_distribution': 'normal', 'feature_preprocessor:nystroem_sampler:kernel': 'poly', 'feature_preprocessor:nystroem_sampler:n_components': 1128, 'feature_preprocessor:nystroem_sampler:coef0': 0.6358887997528, 'feature_preprocessor:nystroem_sampler:degree': 5, 'feature_preprocessor:nystroem_sampler:gamma': 0.003986693030872811},\n",
            "dataset_properties={\n",
            "  'task': 2,\n",
            "  'sparse': False,\n",
            "  'multilabel': False,\n",
            "  'multiclass': True,\n",
            "  'target_type': 'classification',\n",
            "  'signed': False})),\n",
            "(0.460000, SimpleClassificationPipeline({'balancing:strategy': 'weighting', 'classifier:__choice__': 'libsvm_svc', 'data_preprocessing:categorical_transformer:categorical_encoding:__choice__': 'one_hot_encoding', 'data_preprocessing:categorical_transformer:category_coalescence:__choice__': 'minority_coalescer', 'data_preprocessing:numerical_transformer:imputation:strategy': 'most_frequent', 'data_preprocessing:numerical_transformer:rescaling:__choice__': 'quantile_transformer', 'feature_preprocessor:__choice__': 'liblinear_svc_preprocessor', 'classifier:libsvm_svc:C': 23.617163356857034, 'classifier:libsvm_svc:gamma': 0.03426568422270486, 'classifier:libsvm_svc:kernel': 'poly', 'classifier:libsvm_svc:max_iter': -1, 'classifier:libsvm_svc:shrinking': 'True', 'classifier:libsvm_svc:tol': 0.0003809897288698571, 'data_preprocessing:categorical_transformer:category_coalescence:minority_coalescer:minimum_fraction': 0.004949301030421484, 'data_preprocessing:numerical_transformer:rescaling:quantile_transformer:n_quantiles': 847, 'data_preprocessing:numerical_transformer:rescaling:quantile_transformer:output_distribution': 'normal', 'feature_preprocessor:liblinear_svc_preprocessor:C': 3.3404000226016595, 'feature_preprocessor:liblinear_svc_preprocessor:dual': 'False', 'feature_preprocessor:liblinear_svc_preprocessor:fit_intercept': 'True', 'feature_preprocessor:liblinear_svc_preprocessor:intercept_scaling': 1, 'feature_preprocessor:liblinear_svc_preprocessor:loss': 'squared_hinge', 'feature_preprocessor:liblinear_svc_preprocessor:multi_class': 'ovr', 'feature_preprocessor:liblinear_svc_preprocessor:penalty': 'l1', 'feature_preprocessor:liblinear_svc_preprocessor:tol': 0.00013812954117187317, 'classifier:libsvm_svc:coef0': 0.4249652342218557, 'classifier:libsvm_svc:degree': 2},\n",
            "dataset_properties={\n",
            "  'task': 2,\n",
            "  'sparse': False,\n",
            "  'multilabel': False,\n",
            "  'multiclass': True,\n",
            "  'target_type': 'classification',\n",
            "  'signed': False})),\n",
            "]\n"
          ],
          "name": "stdout"
        }
      ]
    },
    {
      "cell_type": "markdown",
      "metadata": {
        "id": "MXDKtVFBpugK",
        "colab_type": "text"
      },
      "source": [
        "###Pruebas con Regresor"
      ]
    },
    {
      "cell_type": "markdown",
      "metadata": {
        "id": "qc3GHNZ7qvOC",
        "colab_type": "text"
      },
      "source": [
        "####RandomForest"
      ]
    },
    {
      "cell_type": "code",
      "metadata": {
        "id": "pAw62L5PmvRs",
        "colab_type": "code",
        "colab": {
          "base_uri": "https://localhost:8080/",
          "height": 136
        },
        "outputId": "7d893938-4fb7-4126-9777-f5f23907f699"
      },
      "source": [
        "from sklearn.ensemble import RandomForestRegressor\n",
        "import sklearn.metrics\n",
        "\n",
        "RFC_R = RandomForestRegressor(max_depth = 5, min_samples_split = 4, n_estimators = 500,random_state = 20, n_jobs = -1)\n",
        "RFC_R.fit(x_train, y_train)"
      ],
      "execution_count": 24,
      "outputs": [
        {
          "output_type": "execute_result",
          "data": {
            "text/plain": [
              "RandomForestRegressor(bootstrap=True, ccp_alpha=0.0, criterion='mse',\n",
              "                      max_depth=5, max_features='auto', max_leaf_nodes=None,\n",
              "                      max_samples=None, min_impurity_decrease=0.0,\n",
              "                      min_impurity_split=None, min_samples_leaf=1,\n",
              "                      min_samples_split=4, min_weight_fraction_leaf=0.0,\n",
              "                      n_estimators=500, n_jobs=-1, oob_score=False,\n",
              "                      random_state=20, verbose=0, warm_start=False)"
            ]
          },
          "metadata": {
            "tags": []
          },
          "execution_count": 24
        }
      ]
    },
    {
      "cell_type": "markdown",
      "metadata": {
        "id": "mBcQF4uAqydH",
        "colab_type": "text"
      },
      "source": [
        "####AutoML"
      ]
    },
    {
      "cell_type": "code",
      "metadata": {
        "id": "0QdrL9NHoklD",
        "colab_type": "code",
        "colab": {}
      },
      "source": [
        "import autosklearn.regression"
      ],
      "execution_count": null,
      "outputs": []
    },
    {
      "cell_type": "code",
      "metadata": {
        "id": "nMnuRR1Rojuq",
        "colab_type": "code",
        "colab": {
          "base_uri": "https://localhost:8080/",
          "height": 343
        },
        "outputId": "43e39e80-11c8-4e8e-f074-cfbe300da530"
      },
      "source": [
        "automl = autosklearn.regression.AutoSklearnRegressor(\n",
        "    time_left_for_this_task=120,\n",
        "    per_run_time_limit=30,\n",
        ")\n",
        "automl.fit(x_train, y_train)"
      ],
      "execution_count": null,
      "outputs": [
        {
          "output_type": "stream",
          "text": [
            "[WARNING] [2020-07-13 18:48:34,107:AutoMLSMBO(1)::29fbeae3048f23904fd3fe8ca11f2781] Could not find meta-data directory /usr/local/lib/python3.6/dist-packages/autosklearn/metalearning/files/r2_regression_dense\n"
          ],
          "name": "stdout"
        },
        {
          "output_type": "stream",
          "text": [
            "/usr/local/lib/python3.6/dist-packages/sklearn/base.py:197: FutureWarning: From version 0.24, get_params will raise an AttributeError if a parameter cannot be retrieved as an instance attribute. Previously it would return None.\n",
            "  FutureWarning)\n"
          ],
          "name": "stderr"
        },
        {
          "output_type": "execute_result",
          "data": {
            "text/plain": [
              "AutoSklearnRegressor(delete_output_folder_after_terminate=True,\n",
              "                     delete_tmp_folder_after_terminate=True,\n",
              "                     disable_evaluator_output=False, ensemble_memory_limit=1024,\n",
              "                     ensemble_nbest=50, ensemble_size=50,\n",
              "                     exclude_estimators=None, exclude_preprocessors=None,\n",
              "                     get_smac_object_callback=None, include_estimators=None,\n",
              "                     include_preprocessors=None,\n",
              "                     initial_configurations_via_metalearning=25,\n",
              "                     logging_config=None, max_models_on_disc=50,\n",
              "                     metadata_directory=None, metric=None, ml_memory_limit=3072,\n",
              "                     n_jobs=None, output_folder=None, per_run_time_limit=30,\n",
              "                     resampling_strategy='holdout',\n",
              "                     resampling_strategy_arguments=None, seed=1,\n",
              "                     shared_mode=False, smac_scenario_args=None,\n",
              "                     time_left_for_this_task=120, tmp_folder=None)"
            ]
          },
          "metadata": {
            "tags": []
          },
          "execution_count": 28
        }
      ]
    },
    {
      "cell_type": "code",
      "metadata": {
        "id": "frOwUznspTGl",
        "colab_type": "code",
        "colab": {
          "base_uri": "https://localhost:8080/",
          "height": 292
        },
        "outputId": "0132712a-6109-4c55-877a-cae0cc17e237"
      },
      "source": [
        "print(automl.show_models())"
      ],
      "execution_count": null,
      "outputs": [
        {
          "output_type": "stream",
          "text": [
            "[(0.860000, SimpleRegressionPipeline({'data_preprocessing:categorical_transformer:categorical_encoding:__choice__': 'one_hot_encoding', 'data_preprocessing:categorical_transformer:category_coalescence:__choice__': 'no_coalescense', 'data_preprocessing:numerical_transformer:imputation:strategy': 'mean', 'data_preprocessing:numerical_transformer:rescaling:__choice__': 'minmax', 'feature_preprocessor:__choice__': 'no_preprocessing', 'regressor:__choice__': 'gradient_boosting', 'regressor:gradient_boosting:early_stop': 'off', 'regressor:gradient_boosting:l2_regularization': 8.448237204757965e-09, 'regressor:gradient_boosting:learning_rate': 0.04843053046966659, 'regressor:gradient_boosting:loss': 'least_squares', 'regressor:gradient_boosting:max_bins': 255, 'regressor:gradient_boosting:max_depth': 'None', 'regressor:gradient_boosting:max_iter': 259, 'regressor:gradient_boosting:max_leaf_nodes': 1033, 'regressor:gradient_boosting:min_samples_leaf': 12, 'regressor:gradient_boosting:scoring': 'loss', 'regressor:gradient_boosting:tol': 1e-07},\n",
            "dataset_properties={\n",
            "  'task': 4,\n",
            "  'sparse': False,\n",
            "  'multioutput': False,\n",
            "  'target_type': 'regression',\n",
            "  'signed': False})),\n",
            "(0.140000, SimpleRegressionPipeline({'data_preprocessing:categorical_transformer:categorical_encoding:__choice__': 'one_hot_encoding', 'data_preprocessing:categorical_transformer:category_coalescence:__choice__': 'no_coalescense', 'data_preprocessing:numerical_transformer:imputation:strategy': 'mean', 'data_preprocessing:numerical_transformer:rescaling:__choice__': 'standardize', 'feature_preprocessor:__choice__': 'fast_ica', 'regressor:__choice__': 'gradient_boosting', 'feature_preprocessor:fast_ica:algorithm': 'deflation', 'feature_preprocessor:fast_ica:fun': 'logcosh', 'feature_preprocessor:fast_ica:whiten': 'True', 'regressor:gradient_boosting:early_stop': 'valid', 'regressor:gradient_boosting:l2_regularization': 3.7068705987151927e-09, 'regressor:gradient_boosting:learning_rate': 0.07479123383308114, 'regressor:gradient_boosting:loss': 'least_squares', 'regressor:gradient_boosting:max_bins': 255, 'regressor:gradient_boosting:max_depth': 'None', 'regressor:gradient_boosting:max_iter': 178, 'regressor:gradient_boosting:max_leaf_nodes': 437, 'regressor:gradient_boosting:min_samples_leaf': 38, 'regressor:gradient_boosting:scoring': 'loss', 'regressor:gradient_boosting:tol': 1e-07, 'feature_preprocessor:fast_ica:n_components': 153, 'regressor:gradient_boosting:n_iter_no_change': 9, 'regressor:gradient_boosting:validation_fraction': 0.31847553226230024},\n",
            "dataset_properties={\n",
            "  'task': 4,\n",
            "  'sparse': False,\n",
            "  'multioutput': False,\n",
            "  'target_type': 'regression',\n",
            "  'signed': False})),\n",
            "]\n"
          ],
          "name": "stdout"
        }
      ]
    },
    {
      "cell_type": "code",
      "metadata": {
        "id": "tPZiL4XtpXBm",
        "colab_type": "code",
        "colab": {
          "base_uri": "https://localhost:8080/",
          "height": 34
        },
        "outputId": "3171ba1f-f018-481d-b6e5-470c76a71456"
      },
      "source": [
        "predictions_automl = automl.predict(x_test)\n",
        "print(\"R2 score:\", sklearn.metrics.r2_score(y_test, predictions_automl))"
      ],
      "execution_count": null,
      "outputs": [
        {
          "output_type": "stream",
          "text": [
            "R2 score: 0.8685683778222033\n"
          ],
          "name": "stdout"
        }
      ]
    },
    {
      "cell_type": "markdown",
      "metadata": {
        "id": "7LcM8Ft0q8QM",
        "colab_type": "text"
      },
      "source": [
        "####XGBoost"
      ]
    },
    {
      "cell_type": "code",
      "metadata": {
        "id": "JZLPKRPlozzI",
        "colab_type": "code",
        "colab": {}
      },
      "source": [
        "import xgboost as xgb\n",
        "from sklearn.metrics import accuracy_score"
      ],
      "execution_count": 1,
      "outputs": []
    },
    {
      "cell_type": "code",
      "metadata": {
        "id": "e7qv2P2apO2P",
        "colab_type": "code",
        "colab": {
          "base_uri": "https://localhost:8080/",
          "height": 34
        },
        "outputId": "993712d0-5d3b-4785-82b0-049b1b283114"
      },
      "source": [
        "# Entrenamos el modelo\n",
        "XGB = xgb.XGBClassifier()\n",
        "XGB.fit(x_train, y_train)\n",
        "\n",
        "# Hacemos las predicciones\n",
        "y_pred_XGB = XGB.predict(x_test)\n",
        "\n",
        "# Evaluamos las predicciones\n",
        "accuracy_XGB = accuracy_score(y_test, y_pred_XGB)\n",
        "print(\"Accuracy: %.15f%%\" % (accuracy_XGB * 100.0))"
      ],
      "execution_count": 26,
      "outputs": [
        {
          "output_type": "stream",
          "text": [
            "Accuracy: 0.821917808219178%\n"
          ],
          "name": "stdout"
        }
      ]
    },
    {
      "cell_type": "markdown",
      "metadata": {
        "id": "V6rZXQQxq188",
        "colab_type": "text"
      },
      "source": [
        "Realizamos un plot_importance para saber que features tienen mas importancia a la hora de tener una enfermedad en el corazón."
      ]
    },
    {
      "cell_type": "code",
      "metadata": {
        "id": "gSIcYLgLp5OH",
        "colab_type": "code",
        "colab": {
          "base_uri": "https://localhost:8080/",
          "height": 1000
        },
        "outputId": "480a3c7c-dfe8-4211-ee2e-8e6c581d1107"
      },
      "source": [
        "xgb.plot_importance(XGB)\n",
        "plt.rcParams['figure.figsize'] = [15,20]\n",
        "plt.show()"
      ],
      "execution_count": 50,
      "outputs": [
        {
          "output_type": "display_data",
          "data": {
            "image/png": "[encoded data removed]",
            "text/plain": [
              "<Figure size 1800x3240 with 1 Axes>"
            ]
          },
          "metadata": {
            "tags": [],
            "needs_background": "light"
          }
        }
      ]
    },
    {
      "cell_type": "markdown",
      "metadata": {
        "id": "6tVyTmGrOt0o",
        "colab_type": "text"
      },
      "source": [
        "## Reduccio de dimensionalitat"
      ]
    },
    {
      "cell_type": "markdown",
      "metadata": {
        "id": "UDtAq2rQ3MhW",
        "colab_type": "text"
      },
      "source": [
        "### PCA"
      ]
    },
    {
      "cell_type": "code",
      "metadata": {
        "id": "e-_cKWB-3MAy",
        "colab_type": "code",
        "colab": {}
      },
      "source": [
        "from sklearn import decomposition\n",
        "from sklearn.preprocessing import StandardScaler\n",
        "XS = StandardScaler().fit_transform(data)"
      ],
      "execution_count": null,
      "outputs": []
    },
    {
      "cell_type": "code",
      "metadata": {
        "id": "cbQC2H703kU-",
        "colab_type": "code",
        "colab": {
          "base_uri": "https://localhost:8080/",
          "height": 34
        },
        "outputId": "3370afc6-b274-4110-f849-cb5a070834ff"
      },
      "source": [
        "XS.shape"
      ],
      "execution_count": null,
      "outputs": [
        {
          "output_type": "execute_result",
          "data": {
            "text/plain": [
              "(1460, 72)"
            ]
          },
          "metadata": {
            "tags": []
          },
          "execution_count": 32
        }
      ]
    },
    {
      "cell_type": "code",
      "metadata": {
        "id": "Mmy9Ivt_3onG",
        "colab_type": "code",
        "colab": {
          "base_uri": "https://localhost:8080/",
          "height": 34
        },
        "outputId": "34fbf9f4-1c36-4a26-fb3a-a688af3f7e9d"
      },
      "source": [
        "#Aplicar PCA a los datos escalados\n",
        "pca = decomposition.PCA(n_components=72).fit(XS)\n",
        "#Proyección de los datos en el espacio PCA\n",
        "Xproj = pca.transform(XS)\n",
        "Xproj.shape"
      ],
      "execution_count": null,
      "outputs": [
        {
          "output_type": "execute_result",
          "data": {
            "text/plain": [
              "(1460, 72)"
            ]
          },
          "metadata": {
            "tags": []
          },
          "execution_count": 33
        }
      ]
    },
    {
      "cell_type": "code",
      "metadata": {
        "id": "aKIZDHaB4-he",
        "colab_type": "code",
        "colab": {
          "base_uri": "https://localhost:8080/",
          "height": 71
        },
        "outputId": "c56acf1f-a1d4-41df-a998-74691f8875d5"
      },
      "source": [
        "print('Valores propios = {} {} {} {} {} {} {} {} {} {} {} {} {} {}'.format(*pca.explained_variance_))\n",
        "print('Fracción de la varianza explicada = {} {} {} {} {} {} {} {} {} {} {} {} {} {}'.format(*pca.explained_variance_ratio_))"
      ],
      "execution_count": null,
      "outputs": [
        {
          "output_type": "stream",
          "text": [
            "Valores propios = 10.387106802226135 3.9930964833436535 3.6377602064260275 3.3965824612955773 2.6923122518840494 2.3436414698102572 1.9849801571228427 1.9088857046163992 1.6654725127734498 1.5827801434610986 1.491798695681596 1.4084485557188133 1.3578166787036547 1.3405085675055344\n",
            "Fracción de la varianza explicada = 0.14416656035433723 0.05542168730211557 0.050489841525642815 0.04714244492989199 0.03736761392217301 0.03252828105453923 0.027550285856566086 0.026494142342421288 0.0231157191413286 0.021968000659339255 0.020705234941014537 0.019548387012878123 0.018845648156665066 0.018605422374339556\n"
          ],
          "name": "stdout"
        }
      ]
    },
    {
      "cell_type": "code",
      "metadata": {
        "id": "PlcIY2c35YNZ",
        "colab_type": "code",
        "colab": {
          "base_uri": "https://localhost:8080/",
          "height": 323
        },
        "outputId": "c9d1d202-243d-4e32-9373-07e97384d25f"
      },
      "source": [
        "100*pca.explained_variance_ratio_.cumsum()"
      ],
      "execution_count": null,
      "outputs": [
        {
          "output_type": "execute_result",
          "data": {
            "text/plain": [
              "array([ 14.41665604,  19.95882477,  25.00780892,  29.72205341,\n",
              "        33.4588148 ,  36.71164291,  39.46667149,  42.11608573,\n",
              "        44.42765764,  46.62445771,  48.6949812 ,  50.6498199 ,\n",
              "        52.53438472,  54.39492696,  56.1462774 ,  57.85221439,\n",
              "        59.52856596,  61.18227392,  62.78610933,  64.33582784,\n",
              "        65.81595387,  67.27366169,  68.66426774,  70.03196232,\n",
              "        71.37677364,  72.68867932,  73.94621281,  75.17935309,\n",
              "        76.39327708,  77.58992027,  78.74897524,  79.85402655,\n",
              "        80.93249889,  81.99601987,  83.03632757,  84.04719403,\n",
              "        85.01907227,  85.9481909 ,  86.86971196,  87.74220692,\n",
              "        88.59137624,  89.3869665 ,  90.16608486,  90.92033542,\n",
              "        91.64584938,  92.34556234,  92.98384105,  93.59819697,\n",
              "        94.19490169,  94.75342029,  95.28387776,  95.80261179,\n",
              "        96.28807028,  96.73524156,  97.14159886,  97.51328114,\n",
              "        97.8592576 ,  98.16904896,  98.45567162,  98.69169108,\n",
              "        98.91193121,  99.10297148,  99.26059969,  99.4138816 ,\n",
              "        99.55561656,  99.69400838,  99.81309532,  99.88753992,\n",
              "        99.94874571, 100.        , 100.        , 100.        ])"
            ]
          },
          "metadata": {
            "tags": []
          },
          "execution_count": 35
        }
      ]
    },
    {
      "cell_type": "code",
      "metadata": {
        "id": "yP2d38vmqXDf",
        "colab_type": "code",
        "colab": {
          "base_uri": "https://localhost:8080/",
          "height": 34
        },
        "outputId": "ea6747aa-b219-4755-c789-df7dfb315a2d"
      },
      "source": [
        "# Reducir dimensionalidad de los datos quedandonos con 48 componentes PCA:\n",
        "ndim_reducida = 48 # establecer dimensionalidad reducida a partir de la varianza explicada por cada componente\n",
        "XPCA = Xproj[:,0:ndim_reducida]\n",
        "\n",
        "print('Dimensionalidad datos en espacio PCA reducido = {}'.format(XPCA.shape))\n",
        "\n",
        "data_reduced = pd.DataFrame(XPCA)"
      ],
      "execution_count": null,
      "outputs": [
        {
          "output_type": "stream",
          "text": [
            "Dimensionalidad datos en espacio PCA reducido = (1460, 48)\n"
          ],
          "name": "stdout"
        }
      ]
    },
    {
      "cell_type": "markdown",
      "metadata": {
        "id": "XeWq58mdtbsO",
        "colab_type": "text"
      },
      "source": [
        "**ML con reduccion de dimensionalidad PCA**"
      ]
    },
    {
      "cell_type": "code",
      "metadata": {
        "id": "0BTQpL1Pryjb",
        "colab_type": "code",
        "colab": {}
      },
      "source": [
        "x_train_pca, x_test_pca, y_train_pca, y_test_pca = train_test_split(data_reduced, target, test_size=0.25, random_state=42)"
      ],
      "execution_count": null,
      "outputs": []
    },
    {
      "cell_type": "code",
      "metadata": {
        "id": "AEpc9Je9sdCT",
        "colab_type": "code",
        "colab": {
          "base_uri": "https://localhost:8080/",
          "height": 136
        },
        "outputId": "9b4c4bf1-7be1-47b3-e020-b5ba7233f4c0"
      },
      "source": [
        "RFC_R_pca = RandomForestRegressor(max_depth = 5, min_samples_split = 4, n_estimators = 500,random_state = 20, n_jobs = -1)\n",
        "RFC_R_pca.fit(x_train_pca, y_train_pca)"
      ],
      "execution_count": null,
      "outputs": [
        {
          "output_type": "execute_result",
          "data": {
            "text/plain": [
              "RandomForestRegressor(bootstrap=True, ccp_alpha=0.0, criterion='mse',\n",
              "                      max_depth=5, max_features='auto', max_leaf_nodes=None,\n",
              "                      max_samples=None, min_impurity_decrease=0.0,\n",
              "                      min_impurity_split=None, min_samples_leaf=1,\n",
              "                      min_samples_split=4, min_weight_fraction_leaf=0.0,\n",
              "                      n_estimators=500, n_jobs=-1, oob_score=False,\n",
              "                      random_state=20, verbose=0, warm_start=False)"
            ]
          },
          "metadata": {
            "tags": []
          },
          "execution_count": 38
        }
      ]
    },
    {
      "cell_type": "markdown",
      "metadata": {
        "id": "SGfq4c9lQGKY",
        "colab_type": "text"
      },
      "source": [
        "###RFE "
      ]
    },
    {
      "cell_type": "markdown",
      "metadata": {
        "id": "rejalB8RYZOE",
        "colab_type": "text"
      },
      "source": [
        "Hemos intentado buscar las 48 features més importantes para poder eliminarlas pero el codigo acaba dando error por demasiado tiempo de computacién. Lo dejamos ejecutando durante 2 horas y no hubo manera.\n",
        "\n",
        "Dejamos el código a continuación:"
      ]
    },
    {
      "cell_type": "code",
      "metadata": {
        "id": "Y_b00BhQXXIw",
        "colab_type": "code",
        "colab": {}
      },
      "source": [
        "#from sklearn.svm import SVC\n",
        "#from sklearn.feature_selection import RFE\n",
        "\n",
        "#print('Data shape: {}'.format(data.shape))\n",
        "\n",
        "# Create the RFE object and rank each pixel\n",
        "#svc = SVC(kernel=\"linear\", C=1) \n",
        "# clf = tree.DecisionTreeClassifier()\n",
        "#rfe = RFE(estimator=svc, n_features_to_select=48, step=1)\n",
        "#rfe.fit(data, target)\n",
        "#print('Ranging features: {}'.format(rfe.ranking_))\n",
        "#array=[]\n",
        "#for i in range(len(rfe.ranking_)):\n",
        "#  if rfe.ranking_[i] != 1:\n",
        "#     array.append(data.columns[i])\n",
        "#new_data = data\n",
        "#new_data = new_data.drop(columns=array)\n",
        "#new_data.shape"
      ],
      "execution_count": null,
      "outputs": []
    },
    {
      "cell_type": "markdown",
      "metadata": {
        "id": "TjTTK_U4wK0O",
        "colab_type": "text"
      },
      "source": [
        "### TSNE"
      ]
    },
    {
      "cell_type": "code",
      "metadata": {
        "id": "MkLHzxfzwbB9",
        "colab_type": "code",
        "colab": {}
      },
      "source": [
        "from sklearn.manifold import TSNE"
      ],
      "execution_count": null,
      "outputs": []
    },
    {
      "cell_type": "code",
      "metadata": {
        "id": "r1uWP-xGwsAp",
        "colab_type": "code",
        "colab": {
          "base_uri": "https://localhost:8080/",
          "height": 173
        },
        "outputId": "e575ac50-1c06-4735-b447-c80a160a64f4"
      },
      "source": [
        "data_TSNE = TSNE(n_components=2, verbose=1, perplexity=40, n_iter=300).fit_transform(data_reduced)\n",
        "data_TSNE.shape"
      ],
      "execution_count": null,
      "outputs": [
        {
          "output_type": "stream",
          "text": [
            "[t-SNE] Computing 121 nearest neighbors...\n",
            "[t-SNE] Indexed 1460 samples in 0.008s...\n",
            "[t-SNE] Computed neighbors for 1460 samples in 0.250s...\n",
            "[t-SNE] Computed conditional probabilities for sample 1000 / 1460\n",
            "[t-SNE] Computed conditional probabilities for sample 1460 / 1460\n",
            "[t-SNE] Mean sigma: 2.579972\n",
            "[t-SNE] KL divergence after 250 iterations with early exaggeration: 70.304001\n",
            "[t-SNE] KL divergence after 300 iterations: 1.401568\n"
          ],
          "name": "stdout"
        },
        {
          "output_type": "execute_result",
          "data": {
            "text/plain": [
              "(1460, 2)"
            ]
          },
          "metadata": {
            "tags": []
          },
          "execution_count": 39
        }
      ]
    },
    {
      "cell_type": "code",
      "metadata": {
        "id": "PikVet3_xVpH",
        "colab_type": "code",
        "colab": {}
      },
      "source": [
        "x_train_tsne, x_test_tsne, y_train_tsne, y_test_tsne = train_test_split(data_TSNE, target, test_size=0.25, random_state=42)"
      ],
      "execution_count": null,
      "outputs": []
    },
    {
      "cell_type": "code",
      "metadata": {
        "id": "61gi4ptuxpSl",
        "colab_type": "code",
        "colab": {
          "base_uri": "https://localhost:8080/",
          "height": 139
        },
        "outputId": "5b1f9896-a40e-41ff-a363-8e1db68f39ed"
      },
      "source": [
        "RFC_R_tsne = RandomForestRegressor(max_depth = 5, min_samples_split = 4, n_estimators = 500,random_state = 20, n_jobs = -1)\n",
        "RFC_R_tsne.fit(x_train_tsne, y_train_tsne)"
      ],
      "execution_count": null,
      "outputs": [
        {
          "output_type": "execute_result",
          "data": {
            "text/plain": [
              "RandomForestRegressor(bootstrap=True, ccp_alpha=0.0, criterion='mse',\n",
              "                      max_depth=5, max_features='auto', max_leaf_nodes=None,\n",
              "                      max_samples=None, min_impurity_decrease=0.0,\n",
              "                      min_impurity_split=None, min_samples_leaf=1,\n",
              "                      min_samples_split=4, min_weight_fraction_leaf=0.0,\n",
              "                      n_estimators=500, n_jobs=-1, oob_score=False,\n",
              "                      random_state=20, verbose=0, warm_start=False)"
            ]
          },
          "metadata": {
            "tags": []
          },
          "execution_count": 41
        }
      ]
    },
    {
      "cell_type": "code",
      "metadata": {
        "id": "kWEJg04SyBSW",
        "colab_type": "code",
        "colab": {
          "base_uri": "https://localhost:8080/",
          "height": 52
        },
        "outputId": "3bcf3911-5003-4c16-e7f8-b7e406fe0cdc"
      },
      "source": [
        "r2test_tsne = RFC_R_tsne.score(x_test_tsne,y_test_tsne)\n",
        "r2train_tsne = RFC_R_tsne.score(x_train_tsne,y_train_tsne)\n",
        "print(\"R2 score train:\",r2train_tsne)\n",
        "print(\"R2 score test:\",r2test_tsne)"
      ],
      "execution_count": null,
      "outputs": [
        {
          "output_type": "stream",
          "text": [
            "R2 score train: 0.7757535187677848\n",
            "R2 score test: 0.6973201994753779\n"
          ],
          "name": "stdout"
        }
      ]
    },
    {
      "cell_type": "markdown",
      "metadata": {
        "id": "yh89w92k3DD9",
        "colab_type": "text"
      },
      "source": [
        "## Resultados"
      ]
    },
    {
      "cell_type": "markdown",
      "metadata": {
        "id": "BTRIbVxxkfmy",
        "colab_type": "text"
      },
      "source": [
        "###Sin reducir dimensionalidad"
      ]
    },
    {
      "cell_type": "code",
      "metadata": {
        "id": "u_NMLWqtm-w-",
        "colab_type": "code",
        "colab": {
          "base_uri": "https://localhost:8080/",
          "height": 51
        },
        "outputId": "9b325406-645d-4a20-8731-32ff4119c221"
      },
      "source": [
        "train_predict = RFC_R.predict(x_train)\n",
        "test_predict = RFC_R.predict(x_test)\n",
        "\n",
        "r2test = RFC_R.score(x_test,y_test)\n",
        "r2train = RFC_R.score(x_train,y_train)\n",
        "print(\"R2 score train:\",r2train)\n",
        "print(\"R2 score test:\",r2test)"
      ],
      "execution_count": null,
      "outputs": [
        {
          "output_type": "stream",
          "text": [
            "R2 score train: 0.9102416046613544\n",
            "R2 score test: 0.8658413067372508\n"
          ],
          "name": "stdout"
        }
      ]
    },
    {
      "cell_type": "markdown",
      "metadata": {
        "id": "N-AVSm-7lHUd",
        "colab_type": "text"
      },
      "source": [
        "###Reduciendo rimensionalidad"
      ]
    },
    {
      "cell_type": "code",
      "metadata": {
        "id": "Y4gSGYGSsr8a",
        "colab_type": "code",
        "colab": {
          "base_uri": "https://localhost:8080/",
          "height": 51
        },
        "outputId": "2eee8d51-0ae2-4d71-d31d-4b1772d5c1c5"
      },
      "source": [
        "train_predict_pca = RFC_R_pca.predict(x_train_pca)\n",
        "test_predict_pca = RFC_R_pca.predict(x_test_pca)\n",
        "\n",
        "r2test_pca = RFC_R_pca.score(x_test_pca,y_test_pca)\n",
        "r2train_pca = RFC_R_pca.score(x_train_pca,y_train_pca)\n",
        "print(\"R2 score train:\",r2train_pca)\n",
        "print(\"R2 score test:\",r2test_pca)"
      ],
      "execution_count": null,
      "outputs": [
        {
          "output_type": "stream",
          "text": [
            "R2 score train: 0.9223251808632131\n",
            "R2 score test: 0.8677239729422362\n"
          ],
          "name": "stdout"
        }
      ]
    },
    {
      "cell_type": "code",
      "metadata": {
        "id": "laKVEuRnb8qm",
        "colab_type": "code",
        "colab": {
          "base_uri": "https://localhost:8080/",
          "height": 433
        },
        "outputId": "23648b8d-4252-4477-ab52-2ea436fb7491"
      },
      "source": [
        "sns.set(color_codes=True)\n",
        "fig = plt.figure(figsize=(15,15))\n",
        "ax = fig.add_subplot(221)\n",
        "ax = sns.regplot(train_predict, y_train, label='train', color = 'g')\n",
        "ax = sns.regplot(test_predict, y_test, label='test', color = 'r')\n",
        "ax.set_title('72 Dimensions Test vs Train Comparison')\n",
        "ax.legend()\n",
        "\n",
        "ax2 = fig.add_subplot(222)\n",
        "ax2 = sns.regplot(train_predict_pca, y_train, label='train', color = 'g')\n",
        "ax2 = sns.regplot(test_predict_pca, y_test, label='test', color = 'r')\n",
        "ax2.set_title('48 Dimensions Test vs Train Comparison')\n",
        "ax2.legend()"
      ],
      "execution_count": null,
      "outputs": [
        {
          "output_type": "execute_result",
          "data": {
            "text/plain": [
              "<matplotlib.legend.Legend at 0x7f66c9a110b8>"
            ]
          },
          "metadata": {
            "tags": []
          },
          "execution_count": 49
        },
        {
          "output_type": "display_data",
          "data": {
            "image/png": "[encoded data removed]",
            "text/plain": [
              "<Figure size 1080x1080 with 2 Axes>"
            ]
          },
          "metadata": {
            "tags": []
          }
        }
      ]
    },
    {
      "cell_type": "markdown",
      "metadata": {
        "id": "cubS8Wui282t",
        "colab_type": "text"
      },
      "source": [
        "## Discusión y Conclusiones"
      ]
    },
    {
      "cell_type": "markdown",
      "metadata": {
        "id": "uxJYjgpCZoUB",
        "colab_type": "text"
      },
      "source": [
        "Hemos podido ver que reduciendo las dimensones con PCA de 72 a 48 y a posteriori aplicamos un algoritmo de machine learning (en este caso el Random Forest), obtenemos la misma score e incluso un poco mejor que si no aplicamos la reducción de dimensionalidad."
      ]
    },
    {
      "cell_type": "markdown",
      "metadata": {
        "id": "r5r5z8U71-Q1",
        "colab_type": "text"
      },
      "source": [
        "## Linias de desarrollo futuro"
      ]
    },
    {
      "cell_type": "markdown",
      "metadata": {
        "id": "wMKeHyI1JOXr",
        "colab_type": "text"
      },
      "source": [
        "### Annexo 1 : Guardar y/o cargar el modelo\n"
      ]
    },
    {
      "cell_type": "code",
      "metadata": {
        "id": "bnzpoSnj2IEk",
        "colab_type": "code",
        "colab": {}
      },
      "source": [
        "#from google.colab import drive \n",
        "#drive.mount('/content/gdrive')"
      ],
      "execution_count": null,
      "outputs": []
    },
    {
      "cell_type": "code",
      "metadata": {
        "id": "VOoNh49u2MJT",
        "colab_type": "code",
        "colab": {}
      },
      "source": [
        "#import joblib\n",
        "#filename = '/content/gdrive/My Drive/Colab Notebooks/Projecte Final IML/Modelos/model_churn.pkl'\n",
        "#joblib.dump(RFC, filename)"
      ],
      "execution_count": null,
      "outputs": []
    },
    {
      "cell_type": "code",
      "metadata": {
        "id": "qIVdB9EH2TAm",
        "colab_type": "code",
        "colab": {}
      },
      "source": [
        "#RFC = joblib.load('/content/gdrive/My Drive/Colab Notebooks/Projecte Final IML/Modelos/model_churn.pkl')\n",
        "#RFC_rf= joblib.load('/content/gdrive/My Drive/Colab Notebooks/Projecte Final IML/Modelos/model_churn_rf.pkl')"
      ],
      "execution_count": null,
      "outputs": []
    },
    {
      "cell_type": "markdown",
      "metadata": {
        "id": "zipLZlRIJOXr",
        "colab_type": "text"
      },
      "source": [
        "### Annexo 2 :"
      ]
    }
  ]
}